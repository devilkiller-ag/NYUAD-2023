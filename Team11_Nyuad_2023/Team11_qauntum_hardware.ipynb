{
 "cells": [
  {
   "cell_type": "markdown",
   "metadata": {
    "id": "vlueV4vJ5zev"
   },
   "source": [
    "Team **11** \n",
    "\n",
    "Running the repeater placement algorithm on the ibm Guadalupe device"
   ]
  },
  {
   "cell_type": "code",
   "execution_count": 1,
   "metadata": {},
   "outputs": [
    {
     "name": "stdout",
     "output_type": "stream",
     "text": [
      "Requirement already satisfied: pip in /opt/conda/lib/python3.9/site-packages (23.1.2)\n"
     ]
    }
   ],
   "source": [
    "!pip install --upgrade pip"
   ]
  },
  {
   "cell_type": "code",
   "execution_count": 2,
   "metadata": {
    "id": "tcaU4p4E5sPI"
   },
   "outputs": [],
   "source": [
    "!pip install -q qiskit"
   ]
  },
  {
   "cell_type": "code",
   "execution_count": 3,
   "metadata": {
    "id": "tJeQlgQyjb9K"
   },
   "outputs": [],
   "source": [
    "!pip install -q qiskit-optimization"
   ]
  },
  {
   "cell_type": "code",
   "execution_count": 4,
   "metadata": {},
   "outputs": [
    {
     "name": "stdout",
     "output_type": "stream",
     "text": [
      "\u001b[0;35mYou have already enabled qBraid Quantum Jobs in the qiskit environment.\u001b[0m\n"
     ]
    }
   ],
   "source": [
    "!qbraid jobs enable qiskit"
   ]
  },
  {
   "cell_type": "code",
   "execution_count": 5,
   "metadata": {
    "id": "0pnHd5BThVXd"
   },
   "outputs": [],
   "source": [
    "import copy\n",
    "import numpy as np\n",
    "import networkx as nx\n",
    "import matplotlib.pyplot as plt\n",
    "from qiskit import Aer\n",
    "from qiskit_optimization import QuadraticProgram\n",
    "from qiskit_optimization.converters import QuadraticProgramToQubo\n",
    "from qiskit_optimization.algorithms import MinimumEigenOptimizer\n",
    "from qiskit.algorithms import NumPyMinimumEigensolver\n",
    "from qiskit.algorithms import QAOA\n",
    "from scipy.optimize import fsolve\n",
    "import scipy\n"
   ]
  },
  {
   "cell_type": "code",
   "execution_count": 6,
   "metadata": {},
   "outputs": [],
   "source": [
    "import qiskit"
   ]
  },
  {
   "cell_type": "code",
   "execution_count": 7,
   "metadata": {
    "id": "WvkWSfUclFJQ"
   },
   "outputs": [],
   "source": [
    "def rate(elementary_link_length, number_of_repeaters, number_of_modes, swap_probability):\n",
    "    \"\"\"Assumes dual-rail encoding and BSM success probability 50% at the midpoint station.\"\"\"\n",
    "\n",
    "    one_mode_link_prob = .5 * np.exp(- elementary_link_length / attenuation_length)\n",
    "    link_prob = 1 - np.power(1 - one_mode_link_prob, number_of_modes)\n",
    "    success_prob = np.power(link_prob, number_of_repeaters + 1) * np.power(swap_probability, number_of_repeaters)\n",
    "    return speed_of_light_in_fiber / elementary_link_length * success_prob\n",
    "\n",
    "\n",
    "def fidelity(elementary_link_fidelity, number_of_repeaters):\n",
    "\n",
    "    depolar_prob = (4 * elementary_link_fidelity - 1) / 3\n",
    "    return .25 + .75 * np.power(depolar_prob, number_of_repeaters + 1)\n",
    "\n",
    "\n",
    "def solve_number_of_repeaters(elementary_link_fidelity, target_fidelity):\n",
    "\n",
    "    def f(number_of_repeaters):\n",
    "        calculated_fidelity = fidelity(elementary_link_fidelity=elementary_link_fidelity,\n",
    "                                       number_of_repeaters=number_of_repeaters)\n",
    "        return calculated_fidelity - target_fidelity\n",
    "\n",
    "    number_of_repeaters = fsolve(func=f, x0=np.array(1))\n",
    "    return np.floor(number_of_repeaters)\n",
    "\n",
    "\n",
    "def solve_rate(number_of_repeaters, number_of_modes, swap_probability, target_rate):\n",
    "\n",
    "    def f(elementary_link_length):\n",
    "        calculated_rate = rate(elementary_link_length=elementary_link_length,\n",
    "                               number_of_repeaters=number_of_repeaters,\n",
    "                               swap_probability=swap_probability,\n",
    "                               number_of_modes=number_of_modes)\n",
    "        return calculated_rate - target_rate\n",
    "\n",
    "    elementary_link_length = fsolve(func=f, x0=np.array(50))\n",
    "    return np.floor(elementary_link_length)\n",
    "\n",
    "\n",
    "def max_length_and_rate(target_fidelity, target_rate, elementary_link_fidelity, number_of_modes, swap_probability):\n",
    "\n",
    "    [Nmax] = solve_number_of_repeaters(elementary_link_fidelity=elementary_link_fidelity,\n",
    "                                       target_fidelity=target_fidelity)\n",
    "    [Lmax] = solve_rate(number_of_repeaters=Nmax,\n",
    "                        target_rate=target_rate,\n",
    "                        number_of_modes=number_of_modes,\n",
    "                        swap_probability=swap_probability)\n",
    "\n",
    "    print(\"Requirements\\n\\ntarget_fidelity: {}\\ntarget_rate: {} Hz\\n\\n\"\n",
    "          \"Parameters\\n\\nelementary_link_fidelity: {}\\nnumber_of_modes: {}\\nswap_probability: {}\\n\\n\"\n",
    "          \"Results\\n\\nLmax = {} km\\nNmax = {} \\n\\n\"\n",
    "          .format(target_fidelity, target_rate, elementary_link_fidelity, number_of_modes, swap_probability,\n",
    "                  Lmax, Nmax))\n",
    "\n",
    "    return Lmax, Nmax"
   ]
  },
  {
   "cell_type": "code",
   "execution_count": 8,
   "metadata": {
    "id": "3y9ZgOBy-Hi5"
   },
   "outputs": [],
   "source": [
    "def i2s(s, *i):\n",
    "    si=''\n",
    "    for j in i:\n",
    "        si+=','+str(j)\n",
    "    return s+si"
   ]
  },
  {
   "cell_type": "code",
   "execution_count": 9,
   "metadata": {
    "id": "v4UvOPTfMePw"
   },
   "outputs": [],
   "source": [
    "def create_graph(nodes, edges) :\n",
    "  # Create a new graph object\n",
    "  G = nx.Graph()\n",
    "\n",
    "  # Add nodes to the graph\n",
    "  for i in range(len(nodes)):\n",
    "    G.add_node(nodes[i])\n",
    "  # Add edges to the graph\n",
    "  for i in range(len(edges)):\n",
    "    G.add_edge(edges[i][0], edges[i][1],weight=3)\n",
    "    return G\n",
    "   \n",
    "def draw_graph(G):\n",
    "    # Draw the graph\n",
    "    nx.draw(G, with_labels=True)\n",
    "    plt.show()"
   ]
  },
  {
   "cell_type": "code",
   "execution_count": 10,
   "metadata": {},
   "outputs": [],
   "source": [
    "def remove_edges(G, Lmax):\n",
    "    G1=copy.deepcopy(G)\n",
    "    for u, v, weight in list(G.edges(data='weight')):\n",
    "        if weight > Lmax:\n",
    "            G1.remove_edge(u, v)\n",
    "    return G1"
   ]
  },
  {
   "cell_type": "code",
   "execution_count": 11,
   "metadata": {
    "colab": {
     "base_uri": "https://localhost:8080/",
     "height": 516
    },
    "id": "Itn8tpVYW3uP",
    "outputId": "a442c82d-6bc8-44bc-d99f-ddc2927d3b65"
   },
   "outputs": [
    {
     "data": {
      "image/png": "[encoded data removed]",
      "text/plain": [
       "<Figure size 432x288 with 1 Axes>"
      ]
     },
     "metadata": {},
     "output_type": "display_data"
    }
   ],
   "source": [
    "#create the graph\n",
    "nodes = [0, 1, 2, 3, 4]\n",
    "edges = [(2,3), (2, 4),(0, 1), (1, 2)]\n",
    "computers = [0, 3, 4]\n",
    "G= create_graph(nodes,edges)\n",
    "G.add_weighted_edges_from([(0, 1, 1.2), (1,2, 0.7), (2, 3,1.4), (2,4,1.3)])\n",
    "draw_graph(G)"
   ]
  },
  {
   "cell_type": "code",
   "execution_count": 12,
   "metadata": {
    "id": "haD87GExMvUr"
   },
   "outputs": [],
   "source": [
    "def find_all_shortest_paths(G, C):\n",
    "  # Find nodes with degree 1\n",
    "  computers=C\n",
    "  \n",
    "  # Find the shortest paths between pairs of degree 1 nodes\n",
    "  extremal_paths = []\n",
    "  for node1 in computers:\n",
    "      for node2 in computers:\n",
    "          if node1 < node2:\n",
    "              shortest_path = nx.dijkstra_path(G, node1, node2, weight='weight')\n",
    "              extremal_paths.append(shortest_path)\n",
    "\n",
    "  # Print the extremal paths\n",
    "  \n",
    "  return extremal_paths"
   ]
  },
  {
   "cell_type": "code",
   "execution_count": 13,
   "metadata": {
    "id": "ZX6DWCx5M9qr"
   },
   "outputs": [],
   "source": [
    "middle_nodes = list(set(nodes)-set(computers))\n",
    "shortest_path = find_all_shortest_paths(G, computers)"
   ]
  },
  {
   "cell_type": "code",
   "execution_count": 14,
   "metadata": {},
   "outputs": [
    {
     "data": {
      "text/plain": [
       "[[0, 1, 2, 3], [0, 1, 2, 4], [3, 2, 4]]"
      ]
     },
     "execution_count": 14,
     "metadata": {},
     "output_type": "execute_result"
    }
   ],
   "source": [
    "shortest_path"
   ]
  },
  {
   "cell_type": "code",
   "execution_count": 15,
   "metadata": {
    "colab": {
     "base_uri": "https://localhost:8080/"
    },
    "id": "yqU0sG9FlIhl",
    "outputId": "71fb696c-a1b6-4232-9473-bd314b73079d"
   },
   "outputs": [
    {
     "name": "stdout",
     "output_type": "stream",
     "text": [
      "Problem name: \n",
      "\n",
      "Minimize\n",
      "  y,1 + y,2\n",
      "\n",
      "Subject to\n",
      "  Linear constraints (16)\n",
      "    x,0,1 + x,0,2 == 1  'c0'\n",
      "    -x,0,1 + x,1,2 == 0  'c1'\n",
      "    -x,0,2 - x,1,2 + x,2,3 == 0  'c2'\n",
      "    -x,2,3 == -1  'c3'\n",
      "    x,0,1 + x,0,2 == 1  'c4'\n",
      "    -x,0,1 + x,1,2 + x,1,4 == 0  'c5'\n",
      "    -x,0,2 - x,1,2 + x,2,4 == 0  'c6'\n",
      "    -x,1,4 - x,2,4 == -1  'c7'\n",
      "    x,3,2 == 1  'c8'\n",
      "    x,2,4 - x,3,2 == 0  'c9'\n",
      "    -x,2,4 == -1  'c10'\n",
      "    x,0,1 + x,1,2 - 2*y,1 == 0  'c11'\n",
      "    x,0,2 + x,1,2 + x,2,3 - 2*y,2 == 0  'c12'\n",
      "    x,0,1 + x,1,2 + x,1,4 - 2*y,1 == 0  'c13'\n",
      "    x,0,2 + x,1,2 + x,2,4 - 2*y,2 == 0  'c14'\n",
      "    x,2,4 + x,3,2 - 2*y,2 == 0  'c15'\n",
      "\n",
      "  Binary variables (9)\n",
      "    y,1 y,2 x,0,1 x,0,2 x,1,2 x,2,3 x,1,4 x,2,4 x,3,2\n",
      "\n"
     ]
    }
   ],
   "source": [
    "#L_max, Nmax = max_length_and_rate(target_fidelity, target_rate, elementary_link_fidelity, number_of_modes, swap_probability)\n",
    "\n",
    "L_max=2\n",
    "\n",
    "qp = QuadraticProgram()\n",
    "\n",
    "yvars=[]\n",
    "for u in middle_nodes:\n",
    "    qp.binary_var(name=i2s('y',u))\n",
    "    yvars.append(i2s('y',u))\n",
    "\n",
    "xvars=[]\n",
    "for sp in shortest_path:\n",
    "   l=len(sp)\n",
    "   length=0\n",
    "   for u in range(l):\n",
    "       for v in range(u+1,l):\n",
    "         length=0\n",
    "         for i in range(u,v):\n",
    "           length += G.get_edge_data(sp[i],sp[i+1])['weight']\n",
    "         if length <= L_max:\n",
    "             if i2s('x', sp[u], sp[v]) not in xvars:\n",
    "                 qp.binary_var(name=i2s('x', sp[u], sp[v]))\n",
    "                 xvars.append(i2s('x', sp[u], sp[v]))\n",
    "\n",
    "qp.minimize(linear=np.ones(len(middle_nodes)))\n",
    "\n",
    "\n",
    "#CONSTRAINT 1\n",
    "\n",
    "for sp in shortest_path:\n",
    "    s, t = sp[0], sp[-1]\n",
    "    l = len(sp)\n",
    "    for u in range(l):\n",
    "        lin_dict=dict()\n",
    "        if u == 0:\n",
    "            C1=1\n",
    "        elif u == l-1:\n",
    "            C1=-1\n",
    "        else:\n",
    "            C1=0\n",
    "        for v in range(u+1, l):\n",
    "            if i2s('x', sp[u], sp[v]) in xvars:\n",
    "                lin_dict[i2s('x', sp[u], sp[v])]=1\n",
    "        for w in range(u):\n",
    "            if i2s('x', sp[w], sp[u]) in xvars:\n",
    "                lin_dict[i2s('x', sp[w], sp[u])]=-1\n",
    "        qp.linear_constraint(linear=lin_dict, sense='==', rhs=C1)\n",
    "        \n",
    "#CONSTRAINT 2\n",
    "\n",
    "for sp in shortest_path:\n",
    "    s, t = sp[0], sp[-1]\n",
    "    l = len(sp)\n",
    "    for u in range(1,l-1):\n",
    "        lin_dict=dict()\n",
    "        for v in range(u+1, l):\n",
    "            if i2s('x', sp[u], sp[v]) in xvars:\n",
    "                lin_dict[i2s('x', sp[u], sp[v])]=1\n",
    "        for w in range(u):\n",
    "            if i2s('x', sp[w], sp[u]) in xvars:\n",
    "                lin_dict[i2s('x', sp[w], sp[u])]=1\n",
    "        lin_dict[i2s('y', sp[u])]=-2\n",
    "        \n",
    "        qp.linear_constraint(linear=lin_dict, sense='==', rhs=0)\n",
    "\n",
    "\n",
    "print(qp.prettyprint())"
   ]
  },
  {
   "cell_type": "code",
   "execution_count": 16,
   "metadata": {
    "colab": {
     "base_uri": "https://localhost:8080/"
    },
    "id": "YglL3z4LikYS",
    "outputId": "61535561-8a25-4799-e785-31efe13f0a1e"
   },
   "outputs": [
    {
     "name": "stdout",
     "output_type": "stream",
     "text": [
      "QUBO matrix:\n",
      " [[ 80.   0. -80.   0. -80.   0. -40.   0.   0.]\n",
      " [  0. 120.   0. -80. -80. -40.   0. -80. -40.]\n",
      " [  0.   0.  60.  40.   0.   0.   0.   0.   0.]\n",
      " [  0.   0.   0.  60.  80.   0.   0.   0.   0.]\n",
      " [  0.   0.   0.   0.  80.   0.  40.   0.   0.]\n",
      " [  0.   0.   0.   0.   0.  30.   0.   0.   0.]\n",
      " [  0.   0.   0.   0.   0.   0.  30.  20.   0.]\n",
      " [  0.   0.   0.   0.   0.   0.   0.  60.   0.]\n",
      " [  0.   0.   0.   0.   0.   0.   0.   0.  30.]]\n"
     ]
    }
   ],
   "source": [
    "# Convert the problem to QUBO\n",
    "qp2qubo = QuadraticProgramToQubo(penalty=10)\n",
    "qubo = qp2qubo.convert(qp)\n",
    "\n",
    "qubo_matrix = qubo.objective.quadratic.to_array()\n",
    "print(\"QUBO matrix:\\n\", qubo_matrix)"
   ]
  },
  {
   "cell_type": "code",
   "execution_count": 17,
   "metadata": {},
   "outputs": [
    {
     "data": {
      "text/plain": [
       "(9, 9)"
      ]
     },
     "execution_count": 17,
     "metadata": {},
     "output_type": "execute_result"
    }
   ],
   "source": [
    "qubo_matrix.shape"
   ]
  },
  {
   "cell_type": "code",
   "execution_count": 18,
   "metadata": {
    "id": "BOCInkoigVmm"
   },
   "outputs": [
    {
     "name": "stdout",
     "output_type": "stream",
     "text": [
      "objective function value: 1.0\n",
      "variable values: y,1=0.0, y,2=1.0, x,0,1=0.0, x,0,2=1.0, x,1,2=0.0, x,2,3=1.0, x,1,4=0.0, x,2,4=1.0, x,3,2=1.0\n",
      "status: SUCCESS\n"
     ]
    }
   ],
   "source": [
    "#algorithm_globals.random_seed = 10598\n",
    "exact_mes = NumPyMinimumEigensolver()\n",
    "exact = MinimumEigenOptimizer(exact_mes)\n",
    "exact_result = exact.solve(qubo)\n",
    "print(exact_result.prettyprint())"
   ]
  },
  {
   "cell_type": "code",
   "execution_count": 19,
   "metadata": {},
   "outputs": [
    {
     "name": "stdout",
     "output_type": "stream",
     "text": [
      "offset: 161.0\n",
      "operator:\n",
      "9.5 * IIIIIIIIZ\n",
      "+ 19.5 * IIIIIIIZI\n",
      "- 20.0 * IIIIIZIII\n",
      "+ 5.0 * IIIZIIIII\n",
      "- 10.0 * IIZIIIIII\n",
      "+ 5.0 * IZIIIIIII\n",
      "+ 5.0 * ZIIIIIIII\n",
      "- 20.0 * IIIIIIZIZ\n",
      "- 20.0 * IIIIIZIZI\n",
      "+ 10.0 * IIIIIZZII\n",
      "- 20.0 * IIIIZIIIZ\n",
      "- 30.0 * IIIIZIIII\n",
      "- 20.0 * IIIIZIIZI\n",
      "+ 20.0 * IIIIZZIII\n",
      "- 10.0 * IIIZIIIZI\n",
      "- 10.0 * IIZIIIIIZ\n",
      "+ 10.0 * IIZIZIIII\n",
      "- 20.0 * IZIIIIIZI\n",
      "+ 5.0 * IZZIIIIII\n",
      "- 10.0 * ZIIIIIIZI\n"
     ]
    }
   ],
   "source": [
    "op, offset = qubo.to_ising()\n",
    "print(\"offset: {}\".format(offset))\n",
    "print(\"operator:\")\n",
    "print(op)"
   ]
  },
  {
   "cell_type": "code",
   "execution_count": 20,
   "metadata": {
    "id": "k9FYfpqjA-HO"
   },
   "outputs": [
    {
     "name": "stdout",
     "output_type": "stream",
     "text": [
      "Original problem solution: [0. 1. 0. 1. 0. 1. 0. 1. 1.]\n"
     ]
    }
   ],
   "source": [
    "# Solve the problem using QAOA\n",
    "backend = Aer.get_backend('aer_simulator')\n",
    "qaoa = QAOA(quantum_instance=backend)\n",
    "optimizer = MinimumEigenOptimizer(qaoa)\n",
    "result = optimizer.solve(qubo)\n",
    "\n",
    "# Get the original solution\n",
    "original_solution = qp2qubo.interpret(result.x)\n",
    "\n",
    "print('Original problem solution:', original_solution)"
   ]
  },
  {
   "cell_type": "code",
   "execution_count": 21,
   "metadata": {},
   "outputs": [
    {
     "name": "stdout",
     "output_type": "stream",
     "text": [
      "fval=1.0, y,1=0.0, y,2=1.0, x,0,1=0.0, x,0,2=1.0, x,1,2=0.0, x,2,3=1.0, x,1,4=0.0, x,2,4=1.0, x,3,2=1.0, status=SUCCESS\n"
     ]
    }
   ],
   "source": [
    "print(result)"
   ]
  },
  {
   "cell_type": "code",
   "execution_count": 22,
   "metadata": {
    "tags": []
   },
   "outputs": [],
   "source": [
    "qaoa = QAOA(quantum_instance=backend)\n",
    "optimizer = MinimumEigenOptimizer(qaoa)"
   ]
  },
  {
   "cell_type": "code",
   "execution_count": 27,
   "metadata": {},
   "outputs": [
    {
     "data": {
      "text/plain": [
       "[<qiskit.circuit.quantumcircuit.QuantumCircuit at 0x7f1fa6f9f970>]"
      ]
     },
     "execution_count": 27,
     "metadata": {},
     "output_type": "execute_result"
    }
   ],
   "source": [
    "qaoa.construct_circuit([qiskit.circuit.Parameter(f'theta_{i}') for i in range(2)], op)"
   ]
  },
  {
   "cell_type": "code",
   "execution_count": 28,
   "metadata": {},
   "outputs": [
    {
     "data": {
      "text/plain": [
       "<function qiskit.algorithms.minimum_eigen_solvers.vqe.VQE.get_energy_evaluation.<locals>.energy_evaluation(parameters)>"
      ]
     },
     "execution_count": 28,
     "metadata": {},
     "output_type": "execute_result"
    }
   ],
   "source": [
    "qaoa.get_energy_evaluation(op)"
   ]
  },
  {
   "cell_type": "code",
   "execution_count": 29,
   "metadata": {},
   "outputs": [
    {
     "data": {
      "text/plain": [
       " message: Optimization terminated successfully.\n",
       " success: True\n",
       "  status: 1\n",
       "     fun: -29.65625\n",
       "       x: [ 7.635e+00  2.027e+00]\n",
       "    nfev: 31\n",
       "   maxcv: 0.0"
      ]
     },
     "execution_count": 29,
     "metadata": {},
     "output_type": "execute_result"
    }
   ],
   "source": [
    "x0 = np.random.uniform(low=0.0, high=2*np.pi, size=2)\n",
    "res = scipy.optimize.minimize(qaoa.get_energy_evaluation(op), x0, method = 'COBYLA')\n",
    "res"
   ]
  },
  {
   "cell_type": "code",
   "execution_count": 30,
   "metadata": {},
   "outputs": [],
   "source": [
    "circuit = qaoa.construct_circuit([qiskit.circuit.Parameter(yv) for yv in yvars], op)[0].bind_parameters(res.x)"
   ]
  },
  {
   "cell_type": "code",
   "execution_count": 31,
   "metadata": {},
   "outputs": [],
   "source": [
    "circuit.measure_all()"
   ]
  },
  {
   "cell_type": "code",
   "execution_count": 32,
   "metadata": {},
   "outputs": [],
   "source": [
    "from qiskit_ibm_runtime import QiskitRuntimeService\n",
    "from qiskit_ibm_provider import IBMProvider\n",
    "service = QiskitRuntimeService(channel=\"ibm_quantum\")\n",
    "backend = service.get_backend(\"ibmq_jakarta\")"
   ]
  },
  {
   "cell_type": "code",
   "execution_count": 33,
   "metadata": {},
   "outputs": [
    {
     "name": "stdout",
     "output_type": "stream",
     "text": [
      "ch757s16klhd7q9d8sr0\n",
      "JobStatus.RUNNING\n"
     ]
    }
   ],
   "source": [
    "#Running on simulator\n",
    "options = {\"backend_name\": 'ibmq_qasm_simulator', \n",
    "           \"max_execution_time\":300,\n",
    "           \"instance\":'ibm-q-startup/qbraid/main'}\n",
    "\n",
    "runtime_inputs = {\n",
    "    'circuits': circuit, \n",
    "    'shots': 1000, \n",
    "}\n",
    "\n",
    "job = service.run(\n",
    "    program_id='circuit-runner',\n",
    "    options=options,\n",
    "    inputs=runtime_inputs,\n",
    ")\n",
    "\n",
    "# Job id\n",
    "print(job.job_id())\n",
    "# See job status\n",
    "print(job.status())"
   ]
  },
  {
   "cell_type": "code",
   "execution_count": 35,
   "metadata": {},
   "outputs": [],
   "source": [
    "provider = IBMProvider(instance='ibm-q/open/main')\n",
    "sim_job = provider.retrieve_job('ch757s16klhd7q9d8sr0')"
   ]
  },
  {
   "cell_type": "code",
   "execution_count": 34,
   "metadata": {},
   "outputs": [
    {
     "name": "stdout",
     "output_type": "stream",
     "text": [
      "ch757s9pleju56aaao8g\n",
      "JobStatus.QUEUED\n"
     ]
    }
   ],
   "source": [
    "options = {\"backend_name\": 'ibmq_guadalupe', \n",
    "           \"max_execution_time\":300,\n",
    "           \"instance\":'ibm-q-startup/qbraid/reservations'}\n",
    "\n",
    "runtime_inputs = {\n",
    "    'circuits': circuit, \n",
    "    'shots': 1000, \n",
    "}\n",
    "\n",
    "job = service.run(\n",
    "    program_id='circuit-runner',\n",
    "    options=options,\n",
    "    inputs=runtime_inputs,\n",
    ")\n",
    "\n",
    "# Job id\n",
    "print(job.job_id())\n",
    "# See job status\n",
    "print(job.status())"
   ]
  },
  {
   "cell_type": "code",
   "execution_count": 36,
   "metadata": {},
   "outputs": [
    {
     "name": "stdout",
     "output_type": "stream",
     "text": [
      "ch757s9pleju56aaao8g\n",
      "JobStatus.DONE\n"
     ]
    }
   ],
   "source": [
    "print(job.job_id())\n",
    "print(job.status())"
   ]
  },
  {
   "cell_type": "code",
   "execution_count": 37,
   "metadata": {
    "id": "MlSTn70UjxF1"
   },
   "outputs": [],
   "source": [
    "provider = IBMProvider(instance='ibm-q/open/main')\n",
    "qpu_job = provider.retrieve_job('ch74fu2ccl2b15rc5jgg')"
   ]
  },
  {
   "cell_type": "code",
   "execution_count": 42,
   "metadata": {},
   "outputs": [],
   "source": [
    "counts = qpu_job.result().get_counts()\n",
    "count00=0\n",
    "count01=0\n",
    "count10=0\n",
    "count11=0\n",
    "for i in counts.keys():\n",
    "    if i[:2] == '00':\n",
    "        count00+=counts[i]\n",
    "    elif i[:2] == '01':\n",
    "        count01+=counts[i]\n",
    "    elif i[:2] == '10':\n",
    "        count10+=counts[i]\n",
    "    elif i[:2] == '11':\n",
    "        count11+=counts[i]"
   ]
  },
  {
   "cell_type": "code",
   "execution_count": 46,
   "metadata": {},
   "outputs": [
    {
     "data": {
      "text/plain": [
       "([<matplotlib.axis.XTick at 0x7f1fa566c820>,\n",
       "  <matplotlib.axis.XTick at 0x7f1fa564c040>,\n",
       "  <matplotlib.axis.XTick at 0x7f1fa5640220>,\n",
       "  <matplotlib.axis.XTick at 0x7f1fa5635610>],\n",
       " [Text(0, 0, '00'), Text(1, 0, '01'), Text(2, 0, '10'), Text(3, 0, '11')])"
      ]
     },
     "execution_count": 46,
     "metadata": {},
     "output_type": "execute_result"
    },
    {
     "data": {
      "image/png": "[encoded data removed]",
      "text/plain": [
       "<Figure size 432x288 with 1 Axes>"
      ]
     },
     "metadata": {
      "needs_background": "light"
     },
     "output_type": "display_data"
    }
   ],
   "source": [
    "from qiskit.visualization import plot_histogram\n",
    "\n",
    "count_vals = [count00, count01, count10, count11]\n",
    "plt.bar(np.arange(4),count_vals)\n",
    "plt.ylabel('counts')\n",
    "values=['00', '01', '10', '11']\n",
    "plt.xticks(ticks=[0,1,2,3], labels=values)"
   ]
  },
  {
   "cell_type": "code",
   "execution_count": 74,
   "metadata": {},
   "outputs": [
    {
     "data": {
      "text/plain": [
       "{'y,1': 0, 'y,2': 1}"
      ]
     },
     "execution_count": 74,
     "metadata": {},
     "output_type": "execute_result"
    }
   ],
   "source": [
    "\n",
    "node_activation = {}\n",
    "for i in range(len(middle_nodes)):\n",
    "    node_activation[yvars[i]]=int(values[np.argmax(count_vals)][i])\n",
    "node_activation"
   ]
  },
  {
   "cell_type": "code",
   "execution_count": 72,
   "metadata": {},
   "outputs": [
    {
     "ename": "ValueError",
     "evalue": "dictionary update sequence element #0 has length 3; 2 is required",
     "output_type": "error",
     "traceback": [
      "\u001b[0;31m---------------------------------------------------------------------------\u001b[0m",
      "\u001b[0;31mValueError\u001b[0m                                Traceback (most recent call last)",
      "Cell \u001b[0;32mIn[72], line 1\u001b[0m\n\u001b[0;32m----> 1\u001b[0m \u001b[38;5;28;43mdict\u001b[39;49m\u001b[43m(\u001b[49m\u001b[43myvars\u001b[49m\u001b[43m)\u001b[49m\n",
      "\u001b[0;31mValueError\u001b[0m: dictionary update sequence element #0 has length 3; 2 is required"
     ]
    }
   ],
   "source": []
  },
  {
   "cell_type": "code",
   "execution_count": 47,
   "metadata": {},
   "outputs": [
    {
     "ename": "TypeError",
     "evalue": "list indices must be integers or slices, not str",
     "output_type": "error",
     "traceback": [
      "\u001b[0;31m---------------------------------------------------------------------------\u001b[0m",
      "\u001b[0;31mTypeError\u001b[0m                                 Traceback (most recent call last)",
      "Cell \u001b[0;32mIn[63], line 10\u001b[0m\n\u001b[1;32m      8\u001b[0m \u001b[38;5;28;01melse\u001b[39;00m:\n\u001b[1;32m      9\u001b[0m   node_color\u001b[38;5;241m=\u001b[39m\u001b[38;5;28;01mFalse\u001b[39;00m\n\u001b[0;32m---> 10\u001b[0m   \u001b[38;5;28;01mif\u001b[39;00m \u001b[43mnode_activation\u001b[49m\u001b[43m[\u001b[49m\u001b[43mi2s\u001b[49m\u001b[43m(\u001b[49m\u001b[38;5;124;43m'\u001b[39;49m\u001b[38;5;124;43my\u001b[39;49m\u001b[38;5;124;43m'\u001b[39;49m\u001b[43m,\u001b[49m\u001b[43mnode\u001b[49m\u001b[43m)\u001b[49m\u001b[43m]\u001b[49m \u001b[38;5;241m==\u001b[39m \u001b[38;5;241m1\u001b[39m:\n\u001b[1;32m     11\u001b[0m     \u001b[38;5;66;03m#Since Qiskit doesn't allow us to manipulate penalties, we double-check if the solution is valid\u001b[39;00m\n\u001b[1;32m     12\u001b[0m     count\u001b[38;5;241m=\u001b[39m\u001b[38;5;241m0\u001b[39m\n\u001b[1;32m     13\u001b[0m     \u001b[38;5;28;01mfor\u001b[39;00m j \u001b[38;5;129;01min\u001b[39;00m nodes:\n",
      "\u001b[0;31mTypeError\u001b[0m: list indices must be integers or slices, not str"
     ]
    }
   ],
   "source": [
    "node_activation = values[np.argmax(count_vals)]\n",
    "\n",
    "# Create a list of colors based on the node_activation list\n",
    "colors = []\n",
    "for i, node in enumerate(nodes):\n",
    "    if node in computers:\n",
    "        colors.append('green')\n",
    "    else:\n",
    "      node_color=False\n",
    "      if node_activation[i2s('y',node)] == 1:\n",
    "        #Since Qiskit doesn't allow us to manipulate penalties, we double-check if the solution is valid\n",
    "        count=0\n",
    "        for j in nodes:\n",
    "          if i2s('x', node, j) in xvars:\n",
    "            count+=result[i2s('x', node, j)]\n",
    "          elif i2s('x', j, node) in xvars:\n",
    "            count+=result[i2s('x', j, node)]\n",
    "        if count>0:\n",
    "            colors.append('red')\n",
    "        else:\n",
    "          colors.append('blue')\n",
    "      else:\n",
    "          colors.append('blue')\n",
    "\n",
    "pos = nx.spring_layout(G)\n",
    "nx.draw(G, pos, with_labels=True, node_color=colors)\n",
    "\n",
    "# Add edge labels\n",
    "edge_labels = {(u, v): d['weight'] for u, v, d in G.edges(data=True)}\n",
    "nx.draw_networkx_edge_labels(G, pos, edge_labels=edge_labels)\n",
    "plt.show()"
   ]
  },
  {
   "cell_type": "code",
   "execution_count": null,
   "metadata": {},
   "outputs": [],
   "source": []
  }
 ],
 "metadata": {
  "colab": {
   "provenance": []
  },
  "kernelspec": {
   "display_name": "Python 3 [Qiskit]",
   "language": "python",
   "name": "python3_qiskit_9y9siy"
  },
  "language_info": {
   "codemirror_mode": {
    "name": "ipython",
    "version": 3
   },
   "file_extension": ".py",
   "mimetype": "text/x-python",
   "name": "python",
   "nbconvert_exporter": "python",
   "pygments_lexer": "ipython3",
   "version": "3.9.10"
  }
 },
 "nbformat": 4,
 "nbformat_minor": 4
}
