{
  "nbformat": 4,
  "nbformat_minor": 0,
  "metadata": {
    "colab": {
      "provenance": []
    },
    "kernelspec": {
      "name": "python3",
      "display_name": "Python 3"
    },
    "language_info": {
      "name": "python"
    }
  },
  "cells": [
    {
      "cell_type": "markdown",
      "source": [
        "Team **11** "
      ],
      "metadata": {
        "id": "vlueV4vJ5zev"
      }
    },
    {
      "cell_type": "markdown",
      "source": [
        "##Building a Quantum internet infrastructure for the FAB bank in the UAE \n",
        "\n",
        "\n"
      ],
      "metadata": {
        "id": "kKlm2VwDzGAY"
      }
    },
    {
      "cell_type": "markdown",
      "source": [
        "For the goal of building an effiecient quantum network for the FAB bank in the UAE, located in the cities Dubai, Abu-Dhabi, Fujairah. we levearaged quantum optimization techniques to solve the repeater placement problem that respects specific effeciency requirements."
      ],
      "metadata": {
        "id": "z1VyVSNQzYan"
      }
    },
    {
      "cell_type": "markdown",
      "source": [
        "We formulated the problem as a Quadratic unconstrained binary optimization (QUBO) and solved it with the Quantum Approximate Optimization Algorithm (QAOA), and we executed our solution on IBM quantum simulators."
      ],
      "metadata": {
        "id": "CYvsIDEPz7zI"
      }
    },
    {
      "cell_type": "code",
      "source": [
        "!pip install -q qiskit"
      ],
      "metadata": {
        "id": "tcaU4p4E5sPI"
      },
      "execution_count": null,
      "outputs": []
    },
    {
      "cell_type": "code",
      "source": [
        "!pip install -q qiskit-optimization"
      ],
      "metadata": {
        "id": "tJeQlgQyjb9K"
      },
      "execution_count": null,
      "outputs": []
    },
    {
      "cell_type": "markdown",
      "source": [
        "##importing libraries\n"
      ],
      "metadata": {
        "id": "T5fzwwpDy8w2"
      }
    },
    {
      "cell_type": "code",
      "source": [
        "import copy\n",
        "import numpy as np\n",
        "import networkx as nx\n",
        "import matplotlib.pyplot as plt\n",
        "from qiskit import Aer\n",
        "from qiskit_optimization import QuadraticProgram\n",
        "from qiskit_optimization.converters import QuadraticProgramToQubo\n",
        "from qiskit_optimization.algorithms import MinimumEigenOptimizer\n",
        "from qiskit.algorithms import NumPyMinimumEigensolver\n",
        "from qiskit.algorithms import QAOA\n",
        "from scipy.optimize import fsolve"
      ],
      "metadata": {
        "id": "0pnHd5BThVXd"
      },
      "execution_count": null,
      "outputs": []
    },
    {
      "cell_type": "code",
      "source": [
        "def rate(elementary_link_length, number_of_repeaters, number_of_modes, swap_probability):\n",
        "    \"\"\"Assumes dual-rail encoding and BSM success probability 50% at the midpoint station.\"\"\"\n",
        "\n",
        "    one_mode_link_prob = .5 * np.exp(- elementary_link_length / attenuation_length)\n",
        "    link_prob = 1 - np.power(1 - one_mode_link_prob, number_of_modes)\n",
        "    success_prob = np.power(link_prob, number_of_repeaters + 1) * np.power(swap_probability, number_of_repeaters)\n",
        "    return speed_of_light_in_fiber / elementary_link_length * success_prob\n",
        "\n",
        "\n",
        "def fidelity(elementary_link_fidelity, number_of_repeaters):\n",
        "\n",
        "    depolar_prob = (4 * elementary_link_fidelity - 1) / 3\n",
        "    return .25 + .75 * np.power(depolar_prob, number_of_repeaters + 1)\n",
        "\n",
        "\n",
        "def solve_number_of_repeaters(elementary_link_fidelity, target_fidelity):\n",
        "\n",
        "    def f(number_of_repeaters):\n",
        "        calculated_fidelity = fidelity(elementary_link_fidelity=elementary_link_fidelity,\n",
        "                                       number_of_repeaters=number_of_repeaters)\n",
        "        return calculated_fidelity - target_fidelity\n",
        "\n",
        "    number_of_repeaters = fsolve(func=f, x0=np.array(1))\n",
        "    return np.floor(number_of_repeaters)\n",
        "\n",
        "\n",
        "def solve_rate(number_of_repeaters, number_of_modes, swap_probability, target_rate):\n",
        "\n",
        "    def f(elementary_link_length):\n",
        "        calculated_rate = rate(elementary_link_length=elementary_link_length,\n",
        "                               number_of_repeaters=number_of_repeaters,\n",
        "                               swap_probability=swap_probability,\n",
        "                               number_of_modes=number_of_modes)\n",
        "        return calculated_rate - target_rate\n",
        "\n",
        "    elementary_link_length = fsolve(func=f, x0=np.array(50))\n",
        "    return np.floor(elementary_link_length)\n",
        "\n",
        "\n",
        "def max_length_and_rate(target_fidelity, target_rate, elementary_link_fidelity, number_of_modes, swap_probability):\n",
        "\n",
        "    [Nmax] = solve_number_of_repeaters(elementary_link_fidelity=elementary_link_fidelity,\n",
        "                                       target_fidelity=target_fidelity)\n",
        "    [Lmax] = solve_rate(number_of_repeaters=Nmax,\n",
        "                        target_rate=target_rate,\n",
        "                        number_of_modes=number_of_modes,\n",
        "                        swap_probability=swap_probability)\n",
        "\n",
        "    print(\"Requirements\\n\\ntarget_fidelity: {}\\ntarget_rate: {} Hz\\n\\n\"\n",
        "          \"Parameters\\n\\nelementary_link_fidelity: {}\\nnumber_of_modes: {}\\nswap_probability: {}\\n\\n\"\n",
        "          \"Results\\n\\nLmax = {} km\\nNmax = {} \\n\\n\"\n",
        "          .format(target_fidelity, target_rate, elementary_link_fidelity, number_of_modes, swap_probability,\n",
        "                  Lmax, Nmax))\n",
        "\n",
        "    return Lmax, Nmax"
      ],
      "metadata": {
        "id": "WvkWSfUclFJQ"
      },
      "execution_count": null,
      "outputs": []
    },
    {
      "cell_type": "markdown",
      "source": [],
      "metadata": {
        "id": "Fht8tbeMzFFp"
      }
    },
    {
      "cell_type": "code",
      "source": [
        "def i2s(s, *i):\n",
        "    si=''\n",
        "    for j in i:\n",
        "        si+=','+str(j)\n",
        "    return s+si"
      ],
      "metadata": {
        "id": "3y9ZgOBy-Hi5"
      },
      "execution_count": null,
      "outputs": []
    },
    {
      "cell_type": "markdown",
      "source": [
        "function for Creating the Graph and adding the weights, plotting the graph"
      ],
      "metadata": {
        "id": "XyOqPPbH1TvU"
      }
    },
    {
      "cell_type": "code",
      "source": [
        "def create_graph(nodes, edges) :\n",
        "  # Create a new graph object\n",
        "  G = nx.Graph()\n",
        "\n",
        "  # Add nodes to the graph\n",
        "  for i in range(len(nodes)):\n",
        "    G.add_node(nodes[i])\n",
        "  # Add edges to the graph\n",
        "  for i in range(len(edges)):\n",
        "      G.add_edge(edges[i][0], edges[i][1],weight=3)\n",
        "  return G\n",
        "   \n",
        "def draw_graph(G):\n",
        "    # Draw the graph\n",
        "    nx.draw(G, with_labels=True)\n",
        "    plt.show()"
      ],
      "metadata": {
        "id": "v4UvOPTfMePw"
      },
      "execution_count": null,
      "outputs": []
    },
    {
      "cell_type": "code",
      "source": [
        "def remove_edges(G, Lmax):\n",
        "  G1=copy.deepcopy(G)\n",
        "  for u, v, weight in list(G.edges(data='weight')):\n",
        "    if weight > Lmax:\n",
        "        G1.remove_edge(u, v)\n",
        "  return G1"
      ],
      "metadata": {
        "id": "N-Ng9aKBWFEq"
      },
      "execution_count": null,
      "outputs": []
    },
    {
      "cell_type": "code",
      "source": [
        "target_fidelity=0.878 #80\n",
        "#target_fidelity=0.84 #70\n",
        "\n",
        "number_of_modes=107 #80\n",
        "#number_of_modes=109 #70\n",
        "\n",
        "target_entangl_rate=1\n",
        "\n",
        "swap_probability=0.5\n",
        "attenuation_length=20\n",
        "link_fidelity=0.99\n",
        "speed_of_light_in_fiber=2e8\n",
        "\n",
        "L_max, Nmax = max_length_and_rate(target_fidelity, target_entangl_rate, link_fidelity, number_of_modes, swap_probability)"
      ],
      "metadata": {
        "id": "VhAq9RmXWItO",
        "colab": {
          "base_uri": "https://localhost:8080/"
        },
        "outputId": "b3c8dd2d-6330-4d69-b35b-337b02348c02"
      },
      "execution_count": null,
      "outputs": [
        {
          "output_type": "stream",
          "name": "stdout",
          "text": [
            "Requirements\n",
            "\n",
            "target_fidelity: 0.878\n",
            "target_rate: 1 Hz\n",
            "\n",
            "Parameters\n",
            "\n",
            "elementary_link_fidelity: 0.99\n",
            "number_of_modes: 107\n",
            "swap_probability: 0.5\n",
            "\n",
            "Results\n",
            "\n",
            "Lmax = 80.0 km\n",
            "Nmax = 12.0 \n",
            "\n",
            "\n"
          ]
        }
      ]
    },
    {
      "cell_type": "markdown",
      "source": [
        "Creating the Graph"
      ],
      "metadata": {
        "id": "PV9Fq9wy231e"
      }
    },
    {
      "cell_type": "code",
      "source": [
        "# Example list of nodes\n",
        "nodes = ['FAB Dub', 'FAB AD', 'FAB Fuj', 'a','b','c','d','e','f','g','h']\n",
        "# Example list of edges\n",
        "edges = [('FAB Dub','a'), ('a', 'b'),('b', 'FAB AD'), ('FAB AD', 'c'),('c', 'd'),('d', 'e'),('e', 'f'),('f', 'FAB Fuj'),('FAB Fuj', 'g'),('g', 'FAB Dub'),('FAB Dub', 'h'),('b', 'h'),('h','f')]\n",
        "G= create_graph(nodes,edges)\n",
        "G.add_weighted_edges_from([('FAB Dub','a', 51), ('a', 'b', 81),('b', 'FAB AD', 34), ('FAB AD', 'c', 57),('c', 'd', 67),('d', 'e', 65),('e', 'f', 48),('f', 'FAB Fuj', 80),('FAB Fuj', 'g', 68),('g', 'FAB Dub', 66),('FAB Dub', 'h', 53),('b', 'h', 64),('h','f', 30)])\n",
        "\n",
        "computers=['FAB Dub', 'FAB AD', 'FAB Fuj']\n",
        "\n",
        "pos = nx.spring_layout(G)\n",
        "nx.draw(G,pos, with_labels=True)\n",
        "\n",
        "# Add edge labels\n",
        "edge_labels = {(u, v): d['weight'] for u, v, d in G.edges(data=True)}\n",
        "nx.draw_networkx_edge_labels(G, pos, edge_labels=edge_labels)\n",
        "\n",
        "# Show the graph\n",
        "plt.show()"
      ],
      "metadata": {
        "id": "Itn8tpVYW3uP",
        "colab": {
          "base_uri": "https://localhost:8080/",
          "height": 516
        },
        "outputId": "e00727fe-cb61-4d18-b02f-467e9f957927"
      },
      "execution_count": null,
      "outputs": [
        {
          "output_type": "display_data",
          "data": {
            "text/plain": [
              "<Figure size 640x480 with 1 Axes>"
            ],
            "image/png": "[encoded data removed]"
          },
          "metadata": {}
        }
      ]
    },
    {
      "cell_type": "code",
      "source": [
        "G1=remove_edges(G, L_max)"
      ],
      "metadata": {
        "id": "z-CvmueG_Ori"
      },
      "execution_count": null,
      "outputs": []
    },
    {
      "cell_type": "markdown",
      "source": [
        "Finding all the shortest paths"
      ],
      "metadata": {
        "id": "0bpVJIA529UH"
      }
    },
    {
      "cell_type": "code",
      "source": [
        "def find_all_shortest_paths(G, C):\n",
        "  # Find nodes with degree 1\n",
        "  computers=C\n",
        "  \n",
        "  # Find the shortest paths between pairs of degree 1 nodes\n",
        "  extremal_paths = []\n",
        "  for node1 in computers:\n",
        "      for node2 in computers:\n",
        "          if node1 < node2:\n",
        "              shortest_path = nx.dijkstra_path(G, node1, node2, weight='weight')\n",
        "              extremal_paths.append(shortest_path)\n",
        "\n",
        "  # Print the extremal paths\n",
        "  \n",
        "  return extremal_paths"
      ],
      "metadata": {
        "id": "haD87GExMvUr"
      },
      "execution_count": null,
      "outputs": []
    },
    {
      "cell_type": "code",
      "source": [
        "middle_nodes = list(set(nodes)-set(computers))\n",
        "shortest_path = find_all_shortest_paths(G1, computers)"
      ],
      "metadata": {
        "id": "ZX6DWCx5M9qr"
      },
      "execution_count": null,
      "outputs": []
    },
    {
      "cell_type": "markdown",
      "source": [
        "Getting the lenght between each shortest path, implementing the constraints"
      ],
      "metadata": {
        "id": "KhnMPwC93Ccu"
      }
    },
    {
      "cell_type": "code",
      "source": [
        "qp = QuadraticProgram()\n",
        "\n",
        "yvars=[]\n",
        "for u in middle_nodes:\n",
        "    qp.binary_var(name=i2s('y',u))\n",
        "    yvars.append(i2s('y',u))\n",
        "\n",
        "xvars=[]\n",
        "for sp in shortest_path:\n",
        "   l=len(sp)\n",
        "   length=0\n",
        "   for u in range(l):\n",
        "       for v in range(u+1,l):\n",
        "         length=0\n",
        "         for i in range(u,v):\n",
        "           length += G.get_edge_data(sp[i],sp[i+1])['weight']\n",
        "         if length <= L_max:\n",
        "             if i2s('x', sp[u], sp[v]) not in xvars:\n",
        "                 qp.binary_var(name=i2s('x', sp[u], sp[v]))\n",
        "                 xvars.append(i2s('x', sp[u], sp[v]))\n",
        "\n",
        "qp.minimize(linear=np.ones(len(middle_nodes)))\n",
        "\n",
        "\n",
        "#CONSTRAINT 1\n",
        "\n",
        "for sp in shortest_path:\n",
        "    s, t = sp[0], sp[-1]\n",
        "    l = len(sp)\n",
        "    for u in range(l):\n",
        "        lin_dict=dict()\n",
        "        if u == 0:\n",
        "            C1=1\n",
        "        elif u == l-1:\n",
        "            C1=-1\n",
        "        else:\n",
        "            C1=0\n",
        "        for v in range(u+1, l):\n",
        "            if i2s('x', sp[u], sp[v]) in xvars:\n",
        "                lin_dict[i2s('x', sp[u], sp[v])]=1\n",
        "        for w in range(u):\n",
        "            if i2s('x', sp[w], sp[u]) in xvars:\n",
        "                lin_dict[i2s('x', sp[w], sp[u])]=-1\n",
        "        qp.linear_constraint(linear=lin_dict, sense='==', rhs=C1)\n",
        "        \n",
        "#CONSTRAINT 2\n",
        "\n",
        "for sp in shortest_path:\n",
        "    s, t = sp[0], sp[-1]\n",
        "    l = len(sp)\n",
        "    for u in range(1,l-1):\n",
        "        lin_dict=dict()\n",
        "        for v in range(u+1, l):\n",
        "            if i2s('x', sp[u], sp[v]) in xvars:\n",
        "                lin_dict[i2s('x', sp[u], sp[v])]=1\n",
        "        for w in range(u):\n",
        "            if i2s('x', sp[w], sp[u]) in xvars:\n",
        "                lin_dict[i2s('x', sp[w], sp[u])]=1\n",
        "        lin_dict[i2s('y', sp[u])]=-2\n",
        "        \n",
        "        qp.linear_constraint(linear=lin_dict, sense='==', rhs=0)\n",
        "\n",
        "\n",
        "print(qp.prettyprint())"
      ],
      "metadata": {
        "id": "yqU0sG9FlIhl",
        "colab": {
          "base_uri": "https://localhost:8080/"
        },
        "outputId": "5d1daf41-71e2-4268-b1b2-d744f0c973d1"
      },
      "execution_count": null,
      "outputs": [
        {
          "output_type": "stream",
          "name": "stdout",
          "text": [
            "Problem name: \n",
            "\n",
            "Minimize\n",
            "  y,a + y,b + y,c + y,d + y,e + y,f + y,g + y,h\n",
            "\n",
            "Subject to\n",
            "  Linear constraints (18)\n",
            "    x,FAB Dub,g == 1  'c0'\n",
            "    -x,FAB Dub,g + x,g,FAB Fuj == 0  'c1'\n",
            "    -x,g,FAB Fuj == -1  'c2'\n",
            "    x,FAB AD,b == 1  'c3'\n",
            "    -x,FAB AD,b + x,b,h == 0  'c4'\n",
            "    -x,b,h + x,h,FAB Dub == 0  'c5'\n",
            "    -x,h,FAB Dub == -1  'c6'\n",
            "    x,FAB AD,b == 1  'c7'\n",
            "    -x,FAB AD,b + x,b,h == 0  'c8'\n",
            "    -x,b,h + x,h,f == 0  'c9'\n",
            "    x,f,FAB Fuj - x,h,f == 0  'c10'\n",
            "    -x,f,FAB Fuj == -1  'c11'\n",
            "    x,FAB Dub,g + x,g,FAB Fuj - 2*y,g == 0  'c12'\n",
            "    x,FAB AD,b + x,b,h - 2*y,b == 0  'c13'\n",
            "    x,b,h + x,h,FAB Dub - 2*y,h == 0  'c14'\n",
            "    x,FAB AD,b + x,b,h - 2*y,b == 0  'c15'\n",
            "    x,b,h + x,h,f - 2*y,h == 0  'c16'\n",
            "    x,f,FAB Fuj + x,h,f - 2*y,f == 0  'c17'\n",
            "\n",
            "  Binary variables (15)\n",
            "    y,f y,a y,e y,d y,g y,b y,h y,c x,FAB Dub,g x,g,FAB Fuj x,FAB AD,b x,b,h\n",
            "    x,h,FAB Dub x,h,f x,f,FAB Fuj\n",
            "\n"
          ]
        }
      ]
    },
    {
      "cell_type": "markdown",
      "source": [
        "Converting the problem to QUBO"
      ],
      "metadata": {
        "id": "oJU8F5kn3MvN"
      }
    },
    {
      "cell_type": "code",
      "source": [
        "qp2qubo = QuadraticProgramToQubo(penalty=10)\n",
        "qubo = qp2qubo.convert(qp)\n",
        "\n",
        "qubo_matrix = qubo.objective.quadratic.to_array()\n",
        "print(\"QUBO matrix:\\n\", qubo_matrix)"
      ],
      "metadata": {
        "id": "YglL3z4LikYS",
        "outputId": "41a8d3bf-e119-47b6-f68b-f06f4d39f865",
        "colab": {
          "base_uri": "https://localhost:8080/"
        }
      },
      "execution_count": null,
      "outputs": [
        {
          "output_type": "stream",
          "name": "stdout",
          "text": [
            "QUBO matrix:\n",
            " [[ 40.   0.   0.   0.   0.   0.   0.   0.   0.   0.   0.   0.   0. -40.\n",
            "  -40.]\n",
            " [  0.   0.   0.   0.   0.   0.   0.   0.   0.   0.   0.   0.   0.   0.\n",
            "    0.]\n",
            " [  0.   0.   0.   0.   0.   0.   0.   0.   0.   0.   0.   0.   0.   0.\n",
            "    0.]\n",
            " [  0.   0.   0.   0.   0.   0.   0.   0.   0.   0.   0.   0.   0.   0.\n",
            "    0.]\n",
            " [  0.   0.   0.   0.  40.   0.   0.   0. -40. -40.   0.   0.   0.   0.\n",
            "    0.]\n",
            " [  0.   0.   0.   0.   0.  80.   0.   0.   0.   0. -80. -80.   0.   0.\n",
            "    0.]\n",
            " [  0.   0.   0.   0.   0.   0.  80.   0.   0.   0.   0. -80. -40. -40.\n",
            "    0.]\n",
            " [  0.   0.   0.   0.   0.   0.   0.   0.   0.   0.   0.   0.   0.   0.\n",
            "    0.]\n",
            " [  0.   0.   0.   0.   0.   0.   0.   0.  30.   0.   0.   0.   0.   0.\n",
            "    0.]\n",
            " [  0.   0.   0.   0.   0.   0.   0.   0.   0.  30.   0.   0.   0.   0.\n",
            "    0.]\n",
            " [  0.   0.   0.   0.   0.   0.   0.   0.   0.   0.  60.   0.   0.   0.\n",
            "    0.]\n",
            " [  0.   0.   0.   0.   0.   0.   0.   0.   0.   0.   0.  80.   0.   0.\n",
            "    0.]\n",
            " [  0.   0.   0.   0.   0.   0.   0.   0.   0.   0.   0.   0.  30.   0.\n",
            "    0.]\n",
            " [  0.   0.   0.   0.   0.   0.   0.   0.   0.   0.   0.   0.   0.  40.\n",
            "    0.]\n",
            " [  0.   0.   0.   0.   0.   0.   0.   0.   0.   0.   0.   0.   0.   0.\n",
            "   30.]]\n"
          ]
        }
      ]
    },
    {
      "cell_type": "code",
      "source": [
        "#algorithm_globals.random_seed = 10598\n",
        "exact_mes = NumPyMinimumEigensolver()\n",
        "exact = MinimumEigenOptimizer(exact_mes)\n",
        "exact_result = exact.solve(qubo)\n",
        "print(exact_result.prettyprint())"
      ],
      "metadata": {
        "id": "BOCInkoigVmm",
        "outputId": "0f4c9a6d-e535-4f1f-a8a0-35d26650aa4e",
        "colab": {
          "base_uri": "https://localhost:8080/"
        }
      },
      "execution_count": null,
      "outputs": [
        {
          "output_type": "stream",
          "name": "stdout",
          "text": [
            "objective function value: 4.0\n",
            "variable values: y,f=1.0, y,a=0.0, y,e=0.0, y,d=0.0, y,g=1.0, y,b=1.0, y,h=1.0, y,c=0.0, x,FAB Dub,g=1.0, x,g,FAB Fuj=1.0, x,FAB AD,b=1.0, x,b,h=1.0, x,h,FAB Dub=1.0, x,h,f=1.0, x,f,FAB Fuj=1.0\n",
            "status: SUCCESS\n"
          ]
        }
      ]
    },
    {
      "cell_type": "markdown",
      "source": [
        "Solve the problem using QAOA"
      ],
      "metadata": {
        "id": "my34AY9G3SSg"
      }
    },
    {
      "cell_type": "code",
      "source": [
        "# Solve the problem using QAOA\n",
        "backend = Aer.get_backend('aer_simulator')\n",
        "qaoa = QAOA(quantum_instance=backend)\n",
        "optimizer = MinimumEigenOptimizer(qaoa)\n",
        "result = optimizer.solve(qubo)\n",
        "print(result.prettyprint())"
      ],
      "metadata": {
        "id": "k9FYfpqjA-HO",
        "colab": {
          "base_uri": "https://localhost:8080/"
        },
        "outputId": "74a95705-cf6f-49da-bc02-87963a43dd69"
      },
      "execution_count": null,
      "outputs": [
        {
          "output_type": "stream",
          "name": "stdout",
          "text": [
            "Original problem solution: [1. 1. 0. 1. 1. 1. 1. 0. 1. 1. 1. 1. 1. 1. 1.]\n",
            "[1. 1. 0. 1. 1. 1. 1. 0. 1. 1. 1. 1. 1. 1. 1.]\n"
          ]
        }
      ]
    },
    {
      "cell_type": "code",
      "source": [
        "path_dict={}\n",
        "for sp in shortest_path:\n",
        "    s, t = sp[0], sp[-1]\n",
        "    path=[s]\n",
        "    for i in sp:\n",
        "      if i2s('y',i) in yvars and result[i2s('y',i)]==1:\n",
        "        path.append(i)\n",
        "    path.append(t)\n",
        "    path_dict[s+','+t]=path"
      ],
      "metadata": {
        "id": "FC01hZFCM3oC",
        "outputId": "19b503eb-cb57-4aa4-ae04-d6ad9edb4688",
        "colab": {
          "base_uri": "https://localhost:8080/"
        }
      },
      "execution_count": null,
      "outputs": [
        {
          "output_type": "execute_result",
          "data": {
            "text/plain": [
              "{'FAB Dub,FAB Fuj': ['FAB Dub', 'g', 'FAB Fuj'],\n",
              " 'FAB AD,FAB Dub': ['FAB AD', 'b', 'h', 'FAB Dub'],\n",
              " 'FAB AD,FAB Fuj': ['FAB AD', 'b', 'h', 'f', 'FAB Fuj']}"
            ]
          },
          "metadata": {},
          "execution_count": 131
        }
      ]
    },
    {
      "cell_type": "code",
      "source": [
        "def path_info(s,t,path_dict):\n",
        "    try:\n",
        "      path=path_dict[s+','+t]\n",
        "    except:\n",
        "      path=path_dict[t+','+s]\n",
        "      aux=s\n",
        "      s=t\n",
        "      t=aux\n",
        "    N=len(path)-2\n",
        "    length=1\n",
        "    for i in range(len(path)-1):\n",
        "      length *= G.get_edge_data(sp[i],sp[i+1])['weight']\n",
        "    elementary_link_length=length**(1/(len(path)-1))\n",
        "    Rate=rate(elementary_link_length, N, number_of_modes, swap_probability)\n",
        "    Fidelity=fidelity(link_fidelity, N)\n",
        "    print(\"path between nodes {} and {} is {} and has an entanglement rate of {:.2f}Hz and a fidelity of {:.2f}\".format(s,t,path,Rate,Fidelity))"
      ],
      "metadata": {
        "id": "sWGMbTixWdRG"
      },
      "execution_count": null,
      "outputs": []
    },
    {
      "cell_type": "code",
      "source": [
        "path_info('FAB Fuj', 'FAB Dub', path_dict)"
      ],
      "metadata": {
        "id": "SwpidEo2Ri2I",
        "outputId": "a9ca0795-9da2-4529-df87-203686e75202",
        "colab": {
          "base_uri": "https://localhost:8080/"
        }
      },
      "execution_count": null,
      "outputs": [
        {
          "output_type": "stream",
          "name": "stdout",
          "text": [
            "path between nodes FAB Dub and FAB Fuj is ['FAB Dub', 'g', 'FAB Fuj'] and has an entanglement rate of 2122872.58Hz and a fidelity of 0.98\n"
          ]
        }
      ]
    },
    {
      "cell_type": "markdown",
      "source": [
        "# plot solution"
      ],
      "metadata": {
        "id": "iKnM0Xbp5zl4"
      }
    },
    {
      "cell_type": "code",
      "source": [
        "node_activation = result\n",
        "\n",
        "# Create a list of colors based on the node_activation list\n",
        "colors = []\n",
        "for i, node in enumerate(nodes):\n",
        "    if node in computers:\n",
        "        colors.append('green')\n",
        "    else:\n",
        "      node_color=False\n",
        "      if node_activation[i2s('y',node)] == 1:\n",
        "        #Since Qiskit doesn't allow us to manipulate penalties, we double-check if the solution is valid\n",
        "        count=0\n",
        "        for j in nodes:\n",
        "          if i2s('x', node, j) in xvars:\n",
        "            count+=result[i2s('x', node, j)]\n",
        "          elif i2s('x', j, node) in xvars:\n",
        "            count+=result[i2s('x', j, node)]\n",
        "        if count>0:\n",
        "            colors.append('red')\n",
        "        else:\n",
        "          colors.append('blue')\n",
        "      else:\n",
        "          colors.append('blue')\n",
        "\n",
        "pos = nx.spring_layout(G)\n",
        "nx.draw(G, pos, with_labels=True, node_color=colors)\n",
        "\n",
        "# Add edge labels\n",
        "edge_labels = {(u, v): d['weight'] for u, v, d in G.edges(data=True)}\n",
        "nx.draw_networkx_edge_labels(G, pos, edge_labels=edge_labels)\n",
        "plt.show()"
      ],
      "metadata": {
        "id": "nSnc_25kUctd",
        "colab": {
          "base_uri": "https://localhost:8080/",
          "height": 516
        },
        "outputId": "af8400f0-b37f-43d4-c5b0-a5f4208c80ff"
      },
      "execution_count": null,
      "outputs": [
        {
          "output_type": "display_data",
          "data": {
            "text/plain": [
              "<Figure size 640x480 with 1 Axes>"
            ],
            "image/png": "[encoded data removed]"
          },
          "metadata": {}
        }
      ]
    }
  ]
}