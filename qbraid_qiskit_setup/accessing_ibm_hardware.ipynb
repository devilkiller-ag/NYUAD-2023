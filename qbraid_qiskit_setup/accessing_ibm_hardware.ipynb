{
 "cells": [
  {
   "cell_type": "markdown",
   "id": "c5cf89c4",
   "metadata": {},
   "source": [
    "# Enable account to access Qiskit QPUs\n",
    "\n",
    "Use the qBraid-CLI to enable your account and gain access to QPUs available through Qiskit.\n",
    "\n",
    "Normally, Qiskit requires that you create an IBM account. However, by using Qiskit through qBaid Lab, we've taken care of this for you. "
   ]
  },
  {
   "cell_type": "code",
   "execution_count": null,
   "id": "2e5b9e1f",
   "metadata": {},
   "outputs": [],
   "source": [
    "!qbraid jobs enable qiskit"
   ]
  },
  {
   "cell_type": "markdown",
   "id": "bc180880",
   "metadata": {},
   "source": [
    "<h1 style=\"color:#9b12df;\">qBraid instructions</h1> \n",
    "\n",
    "If you are not planning to submit jobs to quantum computers, this notebook should work well with `Python [Default]` kernel. If you want to submit jobs to quantum computers, make sure that you have installed the qiskit environment on qBraid ([installation instructions](https://qbraid-qbraid.readthedocs-hosted.com/en/latest/lab/environments.html#install-environment)) and have selected the `Python [Qiskit]` kernel (Menu Bar->Kernel->Change Kernel).\n",
    "\n",
    "If you do not have aws credentials for submitting your quantum jobs, you will need qBraid-Credits. If you have qBraid-Credits, you can run the following line of code to submit quantum jobs through qBraid"
   ]
  },
  {
   "cell_type": "code",
   "execution_count": 1,
   "id": "f33b760e",
   "metadata": {},
   "outputs": [
    {
     "ename": "ModuleNotFoundError",
     "evalue": "No module named 'qiskit_ibm_provider'",
     "output_type": "error",
     "traceback": [
      "\u001b[1;31m---------------------------------------------------------------------------\u001b[0m",
      "\u001b[1;31mModuleNotFoundError\u001b[0m                       Traceback (most recent call last)",
      "Cell \u001b[1;32mIn[1], line 2\u001b[0m\n\u001b[0;32m      1\u001b[0m \u001b[38;5;28;01mfrom\u001b[39;00m \u001b[38;5;21;01mqiskit_ibm_runtime\u001b[39;00m \u001b[38;5;28;01mimport\u001b[39;00m QiskitRuntimeService\n\u001b[1;32m----> 2\u001b[0m \u001b[38;5;28;01mfrom\u001b[39;00m \u001b[38;5;21;01mqiskit_ibm_provider\u001b[39;00m \u001b[38;5;28;01mimport\u001b[39;00m IBMProvider\n\u001b[0;32m      3\u001b[0m service \u001b[38;5;241m=\u001b[39m QiskitRuntimeService(channel\u001b[38;5;241m=\u001b[39m\u001b[38;5;124m\"\u001b[39m\u001b[38;5;124mibm_quantum\u001b[39m\u001b[38;5;124m\"\u001b[39m)\n\u001b[0;32m      4\u001b[0m backend \u001b[38;5;241m=\u001b[39m service\u001b[38;5;241m.\u001b[39mget_backend(\u001b[38;5;124m\"\u001b[39m\u001b[38;5;124mibmq_jakarta\u001b[39m\u001b[38;5;124m\"\u001b[39m)\n",
      "\u001b[1;31mModuleNotFoundError\u001b[0m: No module named 'qiskit_ibm_provider'"
     ]
    }
   ],
   "source": [
    "from qiskit_ibm_runtime import QiskitRuntimeService\n",
    "from qiskit_ibm_provider import IBMProvider\n",
    "service = QiskitRuntimeService(channel=\"ibm_quantum\")\n",
    "backend = service.get_backend(\"ibmq_jakarta\")"
   ]
  },
  {
   "cell_type": "code",
   "execution_count": 2,
   "id": "619d7a9b",
   "metadata": {},
   "outputs": [],
   "source": [
    "from qiskit import QuantumCircuit, transpile\n",
    "\n",
    "bell = QuantumCircuit(2)\n",
    "bell.h(0)\n",
    "bell.cx(0,1)\n",
    "bell.measure_all()\n",
    "bell = transpile(bell, backend)"
   ]
  },
  {
   "cell_type": "markdown",
   "id": "9b13d06c",
   "metadata": {},
   "source": [
    "## Set a max execution time with circuit-runner"
   ]
  },
  {
   "cell_type": "code",
   "execution_count": 7,
   "id": "f09a5910",
   "metadata": {},
   "outputs": [
    {
     "name": "stdout",
     "output_type": "stream",
     "text": [
      "ch1tihol1tcq36l127u0\n",
      "JobStatus.QUEUED\n"
     ]
    }
   ],
   "source": [
    "options = {\"backend_name\": 'ibmq_jakarta', \n",
    "           \"max_execution_time\":300,\n",
    "           \"instance\":'ibm-q-startup/qbraid/main'}\n",
    "\n",
    "runtime_inputs = {\n",
    "    'circuits': bell, \n",
    "    'shots': 4000, \n",
    "}\n",
    "\n",
    "job = service.run(\n",
    "    program_id='circuit-runner',\n",
    "    options=options,\n",
    "    inputs=runtime_inputs,\n",
    ")\n",
    "\n",
    "# Job id\n",
    "print(job.job_id())\n",
    "# See job status\n",
    "print(job.status())"
   ]
  },
  {
   "cell_type": "markdown",
   "id": "69bb68c5",
   "metadata": {},
   "source": [
    "## Set a max execution time with a primitive \n",
    "\n",
    "The example is with the Sampler, the settings of the max execution time would be the exact same for the Estimator."
   ]
  },
  {
   "cell_type": "code",
   "execution_count": null,
   "id": "14f359a1",
   "metadata": {},
   "outputs": [],
   "source": [
    "from qiskit_ibm_runtime import Options\n",
    "\n",
    "options = Options(max_execution_time=300)"
   ]
  },
  {
   "cell_type": "code",
   "execution_count": null,
   "id": "a6160b30",
   "metadata": {},
   "outputs": [],
   "source": [
    "from qiskit_ibm_runtime import Sampler\n",
    "\n",
    "sampler = Sampler(session=backend, options=options)"
   ]
  },
  {
   "cell_type": "code",
   "execution_count": null,
   "id": "b1a33d40",
   "metadata": {},
   "outputs": [],
   "source": [
    "job = sampler.run(bell)\n",
    "print(f\">>> Job ID: {job.job_id()}\")\n",
    "print(f\">>> Job Status: {job.status()}\")\n"
   ]
  },
  {
   "cell_type": "markdown",
   "id": "87f3d9b7",
   "metadata": {},
   "source": [
    "### Retrieve a job from IBMProvider"
   ]
  },
  {
   "cell_type": "code",
   "execution_count": null,
   "id": "3bc1bf0a",
   "metadata": {},
   "outputs": [],
   "source": [
    "provider = IBMProvider(instance='ibm-q/open/main')\n",
    "jobs = provider.jobs()\n",
    "backend  =  provider.get_backend(\"ibmq_lima\")\n",
    "job = backend.run(bell, shots=4000,)\n"
   ]
  },
  {
   "cell_type": "code",
   "execution_count": null,
   "id": "bcfa55bb",
   "metadata": {},
   "outputs": [],
   "source": [
    "# Run the circuit on a backend then cancel it\n",
    "backend = provider.get_backend(\"ibmq_belem\")\n",
    "job = backend.run(bell)\n",
    "job.cancel()"
   ]
  }
 ],
 "metadata": {
  "kernelspec": {
   "display_name": "Python 3 (ipykernel)",
   "language": "python",
   "name": "python3"
  },
  "language_info": {
   "codemirror_mode": {
    "name": "ipython",
    "version": 3
   },
   "file_extension": ".py",
   "mimetype": "text/x-python",
   "name": "python",
   "nbconvert_exporter": "python",
   "pygments_lexer": "ipython3",
   "version": "3.9.16"
  }
 },
 "nbformat": 4,
 "nbformat_minor": 5
}
