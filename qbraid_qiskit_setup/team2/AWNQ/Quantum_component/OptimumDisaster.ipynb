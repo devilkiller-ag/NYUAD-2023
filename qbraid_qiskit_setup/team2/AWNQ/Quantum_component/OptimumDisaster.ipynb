{
 "cells": [
  {
   "cell_type": "code",
   "execution_count": 216,
   "id": "2416e5e6",
   "metadata": {},
   "outputs": [],
   "source": [
    "import numpy as np\n",
    "import networkx as nx\n",
    "import math\n",
    "from numpy import random\n",
    "import matplotlib as mpl\n",
    "import matplotlib.pyplot as plt\n",
    "from qiskit import Aer, BasicAer\n",
    "from qiskit.algorithms.minimum_eigensolvers import QAOA, NumPyMinimumEigensolver\n",
    "from pytket.extensions.qiskit import AerBackend, AerStateBackend\n",
    "from qiskit.algorithms.optimizers import COBYLA\n",
    "from qiskit.primitives import Sampler\n",
    "from qiskit.algorithms.optimizers import SPSA\n",
    "from qiskit.circuit.library import TwoLocal\n",
    "from qiskit_optimization.algorithms import MinimumEigenOptimizer\n",
    "from qiskit_optimization.applications import VehicleRouting\n",
    "from qiskit_optimization.problems import QuadraticProgram\n",
    "from qiskit_optimization.algorithms import OptimizationResult\n",
    "from qiskit_optimization.problems.quadratic_program import QuadraticProgram\n",
    "from qiskit_optimization.translators import from_docplex_mp\n",
    "from qiskit_optimization.problems import QuadraticProgram\n",
    "from qiskit_optimization.converters import QuadraticProgramToQubo"
   ]
  },
  {
   "cell_type": "code",
   "execution_count": 217,
   "id": "d94e0f1c",
   "metadata": {},
   "outputs": [
    {
     "data": {
      "image/png": "[encoded data removed]",
      "text/plain": [
       "<Figure size 640x480 with 1 Axes>"
      ]
     },
     "metadata": {},
     "output_type": "display_data"
    }
   ],
   "source": [
    "SDG11_5 = nx.DiGraph()\n",
    "\n",
    "'''attrs = {0: {\"pos\":(37.12867427784962, 36.20599792960348), \"color\": \"red\"}, \n",
    "         1: {\"pos\":(37.13405298499115, 36.20201712645157), \"color\": \"red\"},\n",
    "         2: {\"pos\":(37.1326826137449, 36.202957056564465), \"color\": \"blue\"}, \n",
    "         3: {\"pos\":(37.13240853949565, 36.21169233768591), \"color\": \"blue\"},\n",
    "         4: {\"pos\":(37.12302149645884, 36.20397990886314), \"color\": \"green\"}, \n",
    "         5: {\"pos\": (37.14004835919349, 36.211775262897916), \"color\": \"green\"}}\n",
    "nx.set_node_attributes(SDG11_5, attrs)\n",
    "\n",
    "# Add nodes to the graph\n",
    "node_names = [0,1,2,3,4,5]'''\n",
    "\n",
    "\n",
    "\n",
    "attrs = {0: {\"pos\":(37.12867427784962, 36.20599792960348), \"color\": \"red\"}, \n",
    "         1: {\"pos\":(37.13405298499115, 36.20201712645157), \"color\": \"red\"},\n",
    "         2: {\"pos\":(37.1326826137449, 36.202957056564465), \"color\": \"blue\"},\n",
    "         3: {\"pos\":(37.12302149645884, 36.20397990886314), \"color\": \"green\"}}\n",
    "nx.set_node_attributes(SDG11_5, attrs)\n",
    "\n",
    "# Add nodes to the graph\n",
    "node_names = [0,1,2,3]\n",
    "\n",
    "\n",
    "for node in node_names:\n",
    "    SDG11_5.add_node(node, pos=attrs[node]['pos'], color=attrs[node]['color'])\n",
    "\n",
    "#Create adjacency matrix\n",
    "\n",
    "\n",
    "'''adjacency = [[1000, 1000, 1000, 1000, 25, 11],\n",
    "             [1000, 1000, 1000, 1000, 4, 21],\n",
    "             [12, 17, 1000, 1000, 1000, 1000],\n",
    "             [9, 8, 1000, 1000, 1000, 1000],\n",
    "             [1000, 1000, 1000, 1000, 1000, 1000],\n",
    "             [1000, 1000, 1000, 1000, 1000, 1000]]'''\n",
    "\n",
    "'''adjacency = [[math.inf, math.inf, math.inf, math.inf, 25, 11],\n",
    "             [math.inf, math.inf, math.inf, math.inf, 4, 21],\n",
    "             [12, 17, math.inf, math.inf, math.inf, math.inf],\n",
    "             [9, 8, math.inf, math.inf, math.inf, math.inf],\n",
    "             [math.inf, math.inf, math.inf, math.inf, math.inf, math.inf],\n",
    "             [math.inf, math.inf, math.inf, math.inf, math.inf, math.inf]]'''\n",
    "\n",
    "'''adjacency = [[math.inf, math.inf, math.inf, 11],\n",
    "             [math.inf, math.inf, math.inf, 4],\n",
    "             [12, 17, math.inf, math.inf],\n",
    "             [math.inf, math.inf, math.inf, math.inf]]'''\n",
    "\n",
    "\n",
    "adjacency = [[1000, 1000, 1000, 11],\n",
    "             [1000, 1000, 1000, 4],\n",
    "             [12, 17, 1000, 1000],\n",
    "             [1000, 1000, 1000, 1000]]\n",
    "\n",
    "# Add edges to the graph\n",
    "for i in range(len(node_names)):\n",
    "    for j in range(len(node_names)):\n",
    "        if i != j:\n",
    "              SDG11_5.add_edge(node_names[i], node_names[j], weight = adjacency[i][j])\n",
    "\n",
    "# Draw the graph\n",
    "pos = nx.get_node_attributes(SDG11_5, 'pos')\n",
    "colors = nx.get_node_attributes(SDG11_5, 'color')\n",
    "nx.draw_networkx_edge_labels(SDG11_5, pos=pos, edge_labels=nx.get_edge_attributes(SDG11_5, 'weight'))\n",
    "nx.draw(SDG11_5, pos, node_color=list(colors.values()), node_size=500)\n",
    "plt.show()"
   ]
  },
  {
   "cell_type": "code",
   "execution_count": 218,
   "id": "f81764ad",
   "metadata": {},
   "outputs": [],
   "source": [
    "for e in SDG11_5.edges():\n",
    "    #print(e, SDG11_5[e[0]][e[1]]['weight'])\n",
    "    pass"
   ]
  },
  {
   "cell_type": "code",
   "execution_count": 219,
   "id": "db2d340b",
   "metadata": {},
   "outputs": [
    {
     "name": "stdout",
     "output_type": "stream",
     "text": [
      "Problem name: Vehicle routing\n",
      "\n",
      "Minimize\n",
      "  1000*x_0_1 + 12*x_0_2 + 1000*x_0_3 + 1000*x_1_0 + 17*x_1_2 + 1000*x_1_3\n",
      "  + 12*x_2_0 + 17*x_2_1 + 1000*x_2_3 + 1000*x_3_0 + 1000*x_3_1 + 1000*x_3_2\n",
      "\n",
      "Subject to\n",
      "  Linear constraints (12)\n",
      "    x_0_1 + x_0_2 + x_0_3 == 1  'c0'\n",
      "    x_1_0 + x_1_2 + x_1_3 == 1  'c1'\n",
      "    x_2_0 + x_2_1 + x_2_3 == 1  'c2'\n",
      "    x_1_0 + x_2_0 + x_3_0 == 1  'c3'\n",
      "    x_0_1 + x_2_1 + x_3_1 == 1  'c4'\n",
      "    x_0_2 + x_1_2 + x_3_2 == 1  'c5'\n",
      "    x_0_3 + x_1_3 + x_2_3 == 1  'c6'\n",
      "    x_3_0 + x_3_1 + x_3_2 == 1  'c7'\n",
      "    x_0_1 + x_1_0 <= 1  'c8'\n",
      "    x_0_2 + x_2_0 <= 1  'c9'\n",
      "    x_1_2 + x_2_1 <= 1  'c10'\n",
      "    x_0_1 + x_0_2 + x_1_0 + x_1_2 + x_2_0 + x_2_1 <= 2  'c11'\n",
      "\n",
      "  Binary variables (12)\n",
      "    x_0_1 x_0_2 x_0_3 x_1_0 x_1_2 x_1_3 x_2_0 x_2_1 x_2_3 x_3_0 x_3_1 x_3_2\n",
      "\n"
     ]
    }
   ],
   "source": [
    "dummy = VehicleRouting(SDG11_5, 1, 3)\n",
    "dum2 = dummy.to_quadratic_program()\n",
    "print(dum2.prettyprint())\n",
    "qub = QuadraticProgramToQubo()\n",
    "dummy_qubo = qub.convert(dum2)\n",
    "qubitOp, offset = dummy_qubo.to_ising()\n",
    "\n",
    "#print(qubitOp)\n"
   ]
  },
  {
   "cell_type": "code",
   "execution_count": 220,
   "id": "14de9fcf",
   "metadata": {},
   "outputs": [
    {
     "name": "stdout",
     "output_type": "stream",
     "text": [
      "(1+0j) 674\n"
     ]
    }
   ],
   "source": [
    "min_solve = NumPyMinimumEigensolver()\n",
    "min_eigen = min_solve.compute_minimum_eigenvalue(qubitOp)\n",
    "x=0\n",
    "for i in min_eigen.eigenstate:\n",
    "    if i != 0:\n",
    "        print(i, x)\n",
    "    x+=1\n",
    "\n",
    "#print(min_eigen)\n",
    "#print(len(min_eigen.eigenstate))"
   ]
  },
  {
   "cell_type": "code",
   "execution_count": 221,
   "id": "a24e760f",
   "metadata": {},
   "outputs": [
    {
     "data": {
      "text/plain": [
       "'x=0\\nfor i in min_eigen.eigenstate:\\n    if i != 0:\\n        print(i, x)\\n    x+=1'"
      ]
     },
     "execution_count": 221,
     "metadata": {},
     "output_type": "execute_result"
    }
   ],
   "source": [
    "#####exact sol'n#####\n",
    "min_solve = NumPyMinimumEigensolver()\n",
    "min_exact = MinimumEigenOptimizer(min_solve)\n",
    "min_eigen = min_exact.solve(dum2)\n",
    "'''x=0\n",
    "for i in min_eigen.eigenstate:\n",
    "    if i != 0:\n",
    "        print(i, x)\n",
    "    x+=1'''\n",
    "\n",
    "#print(min_eigen.prettyprint())\n",
    "print('')\n"
   ]
  },
  {
   "cell_type": "code",
   "execution_count": 222,
   "id": "cb10b169",
   "metadata": {},
   "outputs": [],
   "source": [
    "#####QAOA approximation#####\n",
    "qaoa_solve = QAOA(sampler=Sampler(), optimizer=COBYLA(), initial_point=[0.0, 0.0])\n",
    "qaoa_opt = MinimumEigenOptimizer(qaoa_solve)\n",
    "qaoa_result = qaoa_opt.solve(dum2)\n",
    "\n",
    "#print(qaoa_result.prettyprint())"
   ]
  },
  {
   "cell_type": "code",
   "execution_count": 225,
   "id": "e8b2f706",
   "metadata": {},
   "outputs": [
    {
     "name": "stdout",
     "output_type": "stream",
     "text": [
      "Final route: \n",
      "Point 2 to point 1 (17 minutes)\n",
      "Point 1 to point 3 (4 minutes)\n",
      "Total time to rescue and dropoff: 21.0 minutes.\n"
     ]
    }
   ],
   "source": [
    "vals = []\n",
    "for i in qaoa_result:\n",
    "    vals.append(i)\n",
    "\n",
    "edge_res = []\n",
    "for i in qaoa_result.variables:\n",
    "    edge_res.append(i.as_tuple()[0])\n",
    "\n",
    "res_pairs = []\n",
    "for i in range(len(vals)):\n",
    "    if vals[i] != 0:\n",
    "        res_pairs.append([vals[i], int(edge_res[i][2]), int(edge_res[i][4])])\n",
    "\n",
    "\n",
    "sum_cost = 0\n",
    "route = []\n",
    "for i in res_pairs:\n",
    "    if adjacency[i[1]][i[2]] != 1000:\n",
    "        sum_cost += i[0]*adjacency[i[1]][i[2]]\n",
    "        route.append((i[1], i[2]))\n",
    "\n",
    "route.sort()\n",
    "route.reverse()\n",
    "print(\"Final route: \")\n",
    "for i in route:\n",
    "    print(\"Point\", i[0], \"to point\", i[1], \"(\" + str(adjacency[i[0]][i[1]])+ \" minutes)\")\n",
    "print(\"Total time to rescue and dropoff:\", sum_cost, \"minutes.\")"
   ]
  },
  {
   "cell_type": "code",
   "execution_count": 224,
   "id": "704e09e9",
   "metadata": {},
   "outputs": [
    {
     "ename": "IBMQAccountCredentialsNotFound",
     "evalue": "'No IBM Quantum Experience credentials found.'",
     "output_type": "error",
     "traceback": [
      "\u001b[0;31m---------------------------------------------------------------------------\u001b[0m",
      "\u001b[0;31mIBMQAccountCredentialsNotFound\u001b[0m            Traceback (most recent call last)",
      "Cell \u001b[0;32mIn[224], line 3\u001b[0m\n\u001b[1;32m      1\u001b[0m \u001b[39mfrom\u001b[39;00m \u001b[39mqiskit\u001b[39;00m \u001b[39mimport\u001b[39;00m IBMQ\n\u001b[0;32m----> 3\u001b[0m IBMQ\u001b[39m.\u001b[39;49mload_account()\n\u001b[1;32m      5\u001b[0m provider \u001b[39m=\u001b[39m IBMQ\u001b[39m.\u001b[39mget_provider(hub\u001b[39m=\u001b[39m\u001b[39m\"\u001b[39m\u001b[39mibm-q\u001b[39m\u001b[39m\"\u001b[39m, group\u001b[39m=\u001b[39m\u001b[39m\"\u001b[39m\u001b[39mopen\u001b[39m\u001b[39m\"\u001b[39m, project\u001b[39m=\u001b[39m\u001b[39m\"\u001b[39m\u001b[39mmain\u001b[39m\u001b[39m\"\u001b[39m)\n",
      "File \u001b[0;32m~/.local/lib/python3.9/site-packages/qiskit/providers/ibmq/ibmqfactory.py:167\u001b[0m, in \u001b[0;36mIBMQFactory.load_account\u001b[0;34m(self)\u001b[0m\n\u001b[1;32m    164\u001b[0m credentials_list \u001b[39m=\u001b[39m \u001b[39mlist\u001b[39m(stored_credentials\u001b[39m.\u001b[39mvalues())\n\u001b[1;32m    166\u001b[0m \u001b[39mif\u001b[39;00m \u001b[39mnot\u001b[39;00m credentials_list:\n\u001b[0;32m--> 167\u001b[0m     \u001b[39mraise\u001b[39;00m IBMQAccountCredentialsNotFound(\n\u001b[1;32m    168\u001b[0m         \u001b[39m'\u001b[39m\u001b[39mNo IBM Quantum Experience credentials found.\u001b[39m\u001b[39m'\u001b[39m)\n\u001b[1;32m    170\u001b[0m \u001b[39mif\u001b[39;00m \u001b[39mlen\u001b[39m(credentials_list) \u001b[39m>\u001b[39m \u001b[39m1\u001b[39m:\n\u001b[1;32m    171\u001b[0m     \u001b[39mraise\u001b[39;00m IBMQAccountMultipleCredentialsFound(\n\u001b[1;32m    172\u001b[0m         \u001b[39m'\u001b[39m\u001b[39mMultiple IBM Quantum Experience credentials found. \u001b[39m\u001b[39m'\u001b[39m \u001b[39m+\u001b[39m UPDATE_ACCOUNT_TEXT)\n",
      "\u001b[0;31mIBMQAccountCredentialsNotFound\u001b[0m: 'No IBM Quantum Experience credentials found.'"
     ]
    }
   ],
   "source": [
    "\n",
    "provider = IBMProvider()\n",
    "\n",
    "\n",
    "backend = provider.get_backend(\"ibmq_belem\")\n",
    "\n"
   ]
  },
  {
   "cell_type": "code",
   "execution_count": null,
   "id": "6d6d182f",
   "metadata": {},
   "outputs": [
    {
     "ename": "AttributeError",
     "evalue": "'QAOA' object has no attribute 'run'",
     "output_type": "error",
     "traceback": [
      "\u001b[0;31m---------------------------------------------------------------------------\u001b[0m",
      "\u001b[0;31mAttributeError\u001b[0m                            Traceback (most recent call last)",
      "Cell \u001b[0;32mIn[151], line 9\u001b[0m\n\u001b[1;32m      4\u001b[0m \u001b[39m#quantum_instance = QuantumInstance(backend=backend, seed_simulator=seed, seed_transpiler=seed)\u001b[39;00m\n\u001b[1;32m      5\u001b[0m \u001b[39m#result = qaoa.run(quantum_instance)\u001b[39;00m\n\u001b[1;32m      8\u001b[0m qaoa_obj \u001b[39m=\u001b[39m QAOA(sampler\u001b[39m=\u001b[39mSampler(), optimizer\u001b[39m=\u001b[39mCOBYLA(), initial_point\u001b[39m=\u001b[39m[\u001b[39m0.0\u001b[39m, \u001b[39m0.0\u001b[39m])\n\u001b[0;32m----> 9\u001b[0m qaoa_solve \u001b[39m=\u001b[39m qaoa_obj\u001b[39m.\u001b[39;49mrun(QuantumInstance(backend\u001b[39m=\u001b[39mbackend, seed_simulator \u001b[39m=\u001b[39m seed, seed_transpiler \u001b[39m=\u001b[39m seed))\n\u001b[1;32m     10\u001b[0m qaoa_opt \u001b[39m=\u001b[39m MinimumEigenOptimizer(qaoa_solve)\n\u001b[1;32m     11\u001b[0m qaoa_result \u001b[39m=\u001b[39m qaoa_opt\u001b[39m.\u001b[39msolve(dum2)\n",
      "\u001b[0;31mAttributeError\u001b[0m: 'QAOA' object has no attribute 'run'"
     ]
    }
   ],
   "source": [
    "#####QAOA approximation#####\n",
    "backend = AerBackend()\n",
    "seed = 50\n",
    "#quantum_instance = QuantumInstance(backend=backend, seed_simulator=seed, seed_transpiler=seed)\n",
    "#result = qaoa.run(quantum_instance)\n",
    "\n",
    "\n",
    "qaoa_obj = QAOA(sampler=Sampler(), optimizer=COBYLA(), initial_point=[0.0, 0.0])\n",
    "qaoa_solve = qaoa_obj.run(QuantumInstance(backend=backend, seed_simulator = seed, seed_transpiler = seed))\n",
    "qaoa_opt = MinimumEigenOptimizer(qaoa_solve)\n",
    "qaoa_result = qaoa_opt.solve(dum2)\n",
    "\n",
    "print(qaoa_result.prettyprint())\n"
   ]
  },
  {
   "cell_type": "code",
   "execution_count": null,
   "id": "5ad8b75c",
   "metadata": {},
   "outputs": [],
   "source": [
    "from qiskit import Aer, BasicAer\n",
    "from qiskit.aqua import get_aer_backend, QuantumInstance\n",
    "from qiskit.aqua.algorithms import QAOA\n",
    "from qiskit.aqua.components.optimizers import COBYLA\n",
    "from qiskit.aqua.operators.weighted_pauli_operator import WeightedPauliOperator\n",
    "from qiskit.quantum_info import Pauli\n",
    "\n",
    "def qaoa_test(module):\n",
    "    qubitOp = WeightedPauliOperator(paulis=[\n",
    "        [ 1, Pauli([ True, True, False ], [ True, True, False ]) ],\n",
    "        [ 1, Pauli([ False, True, True ], [ False, True, True ]) ],\n",
    "        [ 1, Pauli([ True, False, True ], [ True, False, True ]) ]\n",
    "    ])\n",
    "    backend = module.get_backend(\"statevector_simulator\")\n",
    "    seed = 50\n",
    "    cobyla = COBYLA()\n",
    "    cobyla.set_options(maxiter=250)\n",
    "    qaoa = QAOA(qubitOp, cobyla, 1)\n",
    "    qaoa.random_seed = seed\n",
    "    quantum_instance = QuantumInstance(backend=backend, seed_simulator=seed, seed_transpiler=seed)\n",
    "    result = qaoa.run(quantum_instance)\n",
    "    return result\n",
    "\n",
    "result_basic_aer, result_aer = qaoa_test(BasicAer), qaoa_test(Aer)\n",
    "display(result_basic_aer, result_aer)"
   ]
  }
 ],
 "metadata": {
  "kernelspec": {
   "display_name": "Python 3 (ipykernel)",
   "language": "python",
   "name": "python3"
  },
  "language_info": {
   "codemirror_mode": {
    "name": "ipython",
    "version": 3
   },
   "file_extension": ".py",
   "mimetype": "text/x-python",
   "name": "python",
   "nbconvert_exporter": "python",
   "pygments_lexer": "ipython3",
   "version": "3.9.15"
  }
 },
 "nbformat": 4,
 "nbformat_minor": 5
}
