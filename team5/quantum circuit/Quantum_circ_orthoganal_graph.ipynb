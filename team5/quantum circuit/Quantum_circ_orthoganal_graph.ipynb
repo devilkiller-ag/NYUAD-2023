{
 "cells": [
  {
   "cell_type": "code",
   "execution_count": 1,
   "id": "a0a5f934-eabd-4b86-b36f-b3b081db93fa",
   "metadata": {},
   "outputs": [],
   "source": [
    "from qiskit import QuantumRegister, ClassicalRegister, QuantumCircuit\n",
    "from qiskit.extensions import UnitaryGate\n",
    "import numpy as np"
   ]
  },
  {
   "cell_type": "code",
   "execution_count": 2,
   "id": "dfd2de44-4297-41f1-bdf2-8548ee5d90b2",
   "metadata": {},
   "outputs": [],
   "source": [
    "from qiskit.circuit.gate import Gate\n",
    "from qiskit.circuit.library.standard_gates import HGate, CZGate, RYGate, XGate\n",
    "\n",
    "class RBSGate(Gate):\n",
    "\n",
    "    def __init__(self, label=None, param=None):\n",
    "        super().__init__(name='RBS', num_qubits=2, params=[param])\n",
    "        \n",
    "    def _define(self):\n",
    "        from qiskit.circuit.quantumregister import QuantumRegister\n",
    "        from qiskit.circuit.quantumcircuit import QuantumCircuit\n",
    "\n",
    "        q = QuantumRegister(2, 'q')\n",
    "        qc = QuantumCircuit(q, name=self.name)\n",
    "\n",
    "        rules = [\n",
    "            (HGate(), [q[0]], []),\n",
    "            (HGate(), [q[1]], []),\n",
    "            (CZGate(), [q[0], q[1]], []),\n",
    "            (RYGate(self.params[0]/2), [q[0]], []),\n",
    "            (RYGate(-self.params[0]/2), [q[1]], []),\n",
    "            (CZGate(), [q[0], q[1]], []),\n",
    "            (HGate(), [q[0]], []),\n",
    "            (HGate(), [q[1]], [])\n",
    "        ]\n",
    "\n",
    "        qc._data = rules\n",
    "        self.definition = qc"
   ]
  },
  {
   "cell_type": "code",
   "execution_count": 3,
   "id": "59e243dd-c642-4a08-bd78-a04d5b6d57ad",
   "metadata": {},
   "outputs": [],
   "source": [
    "from qiskit import transpile\n",
    "# Use AerSimulator\n",
    "from qiskit_aer import AerSimulator\n",
    "backend = AerSimulator()"
   ]
  },
  {
   "cell_type": "code",
   "execution_count": 4,
   "id": "67b11e67-9331-44d5-9a40-18f60fdd01f2",
   "metadata": {},
   "outputs": [],
   "source": [
    "qubit = QuantumRegister(8)\n",
    "circ = QuantumCircuit (qubit)"
   ]
  },
  {
   "cell_type": "code",
   "execution_count": 5,
   "id": "2c055baa-343a-407d-a08f-130b76df249f",
   "metadata": {},
   "outputs": [
    {
     "data": {
      "text/plain": [
       "<qiskit.circuit.instructionset.InstructionSet at 0x7f5fed750820>"
      ]
     },
     "execution_count": 5,
     "metadata": {},
     "output_type": "execute_result"
    }
   ],
   "source": [
    "#Apply X gate0,1 to 1st and 2nd qubits.\n",
    "circ.append(XGate(), [qubit[0]]) \n",
    "circ.append(XGate(), [qubit[1]])\n",
    "\n",
    "# Apply RBS gate1 to 1st and 2nd qubit\n",
    "circ.append(RBSGate(param=0), [qubit[0], qubit[1]])"
   ]
  },
  {
   "cell_type": "code",
   "execution_count": 6,
   "id": "3bebffcb-cef3-4a57-86e5-c9dec6725f5e",
   "metadata": {},
   "outputs": [
    {
     "data": {
      "text/plain": [
       "<qiskit.circuit.instructionset.InstructionSet at 0x7f5fed75fb80>"
      ]
     },
     "execution_count": 6,
     "metadata": {},
     "output_type": "execute_result"
    }
   ],
   "source": [
    "# Apply X gate2 to 3nd qubits.\n",
    "circ.append(XGate(), [qubit[2]]) \n",
    "# Apply RBS gate2 to 2nd and 3rd qubit\n",
    "# theta2\n",
    "circ.append(RBSGate(param=0), [qubit[1], qubit[2]])\n",
    "\n",
    "# Apply X gate3 to 4th qubits.\n",
    "circ.append(XGate(), [qubit[3]]) \n",
    "# Apply RBS gate3 to 1st and 2nd qubit\n",
    "# theta3\n",
    "circ.append(RBSGate(param=0), [qubit[0], qubit[1]])\n",
    "\n",
    "# Apply X gate4 to 5th qubits.\n",
    "circ.append(XGate(), [qubit[4]]) \n",
    "# Apply RBS gate4 to 3rd and 4th qubit\n",
    "# theta4\n",
    "circ.append(RBSGate(param=0), [qubit[2], qubit[3]])\n",
    "\n",
    "# Apply X gate5 to 6th qubits.\n",
    "circ.append(XGate(), [qubit[5]]) \n",
    "# Apply RBS gate5 to 2nd and 3rd qubit\n",
    "# theta5\n",
    "circ.append(RBSGate(param=0), [qubit[1], qubit[2]])\n",
    "# Apply RBS gate7 to 4th and 5th qubit\n",
    "# theta7\n",
    "circ.append(RBSGate(param=0), [qubit[3], qubit[4]])\n",
    "\n",
    "# Apply X gate6 to 7th qubits.\n",
    "circ.append(XGate(), [qubit[6]]) \n",
    "# Apply RBS gate6 to 1st and 2nd qubit\n",
    "# theta6\n",
    "circ.append(RBSGate(param=0), [qubit[0], qubit[1]])\n",
    "# Apply RBS gate8 to 3rd and 4th qubit\n",
    "# theta8\n",
    "circ.append(RBSGate(param=0), [qubit[2], qubit[3]])\n",
    "# Apply RBS gate11 to 5th and 6th qubit\n",
    "# theta11\n",
    "circ.append(RBSGate(param=0), [qubit[4], qubit[5]])\n",
    "\n",
    "# Apply RBS gate9 to 2nd and 3rd qubit\n",
    "# theta9\n",
    "circ.append(RBSGate(param=0), [qubit[1], qubit[2]])\n",
    "# Apply RBS gate12 to 4th and 5th qubit\n",
    "# theta12\n",
    "circ.append(RBSGate(param=0), [qubit[3], qubit[4]])\n",
    "# Apply RBS gate16 to 6th and 7th qubit\n",
    "# theta16\n",
    "circ.append(RBSGate(param=0), [qubit[5], qubit[6]])\n",
    "\n",
    "# Apply RBS gate10 to 1st and 2nd qubit\n",
    "# theta10\n",
    "circ.append(RBSGate(param=0), [qubit[0], qubit[1]])\n",
    "# Apply RBS gate13 to 3rd and 4th qubit\n",
    "# theta13\n",
    "circ.append(RBSGate(param=0), [qubit[2], qubit[3]])\n",
    "# Apply RBS gate17 to 5th and 6th qubit\n",
    "# theta17\n",
    "circ.append(RBSGate(param=0), [qubit[4], qubit[5]])\n",
    "# Apply RBS gate22 to 7th and 8th qubit\n",
    "# theta22\n",
    "circ.append(RBSGate(param=0), [qubit[6], qubit[7]])"
   ]
  },
  {
   "cell_type": "code",
   "execution_count": 7,
   "id": "077b2f45-4b57-4100-84c0-c8b3ce7f407f",
   "metadata": {},
   "outputs": [
    {
     "data": {
      "text/plain": [
       "<qiskit.circuit.instructionset.InstructionSet at 0x7f5fed75ccd0>"
      ]
     },
     "execution_count": 7,
     "metadata": {},
     "output_type": "execute_result"
    }
   ],
   "source": [
    "# Apply RBS gate14 to 2nd and 3rd qubit\n",
    "# theta14\n",
    "circ.append(RBSGate(param=0), [qubit[1], qubit[2]])\n",
    "# Apply RBS gate18 to 4th and 5th qubit\n",
    "# theta18\n",
    "circ.append(RBSGate(param=0), [qubit[3], qubit[4]])\n",
    "# Apply RBS gate23 to 6th and 7th qubit\n",
    "# theta23\n",
    "circ.append(RBSGate(param=0), [qubit[5], qubit[6]])\n",
    "\n",
    "# Apply RBS gate15 to 1st and 2nd qubit\n",
    "# theta15\n",
    "circ.append(RBSGate(param=0), [qubit[0], qubit[1]])\n",
    "# Apply RBS gate19 to 3th and 4th qubit\n",
    "# theta19\n",
    "circ.append(RBSGate(param=0), [qubit[2], qubit[3]])\n",
    "# Apply RBS gate24 to 5th and 6th qubit\n",
    "# theta24\n",
    "circ.append(RBSGate(param=0), [qubit[4], qubit[5]])\n",
    "\n",
    "# Apply RBS gate20 to 2nd and 3rd qubit\n",
    "# theta20\n",
    "circ.append(RBSGate(param=0), [qubit[1], qubit[2]])\n",
    "# Apply RBS gate25 to 4th and 5th qubit\n",
    "# theta25\n",
    "circ.append(RBSGate(param=0), [qubit[3], qubit[4]])\n",
    "\n",
    "# Apply RBS gate21 to 1st and 2nd qubit\n",
    "# theta21\n",
    "circ.append(RBSGate(param=0), [qubit[0], qubit[1]])\n",
    "# Apply RBS gate26 to 3rd and 4th qubit\n",
    "# theta26\n",
    "circ.append(RBSGate(param=0), [qubit[2], qubit[3]])\n",
    "\n",
    "# Apply RBS gate27 to 2nd and 3rd qubit\n",
    "# theta27\n",
    "circ.append(RBSGate(param=0), [qubit[1], qubit[2]])\n",
    "\n",
    "# Apply RBS gate28 to 1st and 2nd qubit\n",
    "# theta28\n",
    "circ.append(RBSGate(param=0), [qubit[0], qubit[1]])"
   ]
  },
  {
   "cell_type": "code",
   "execution_count": 8,
   "id": "e4d741cf-ad46-4178-843f-bd8eb4fd41b1",
   "metadata": {},
   "outputs": [
    {
     "data": {
      "image/png": "[encoded data removed]",
      "text/plain": [
       "<Figure size 1308.86x702.333 with 1 Axes>"
      ]
     },
     "execution_count": 8,
     "metadata": {},
     "output_type": "execute_result"
    }
   ],
   "source": [
    "circ.draw (output = 'mpl')"
   ]
  },
  {
   "cell_type": "code",
   "execution_count": 12,
   "id": "131732ec-7e74-454c-aee2-35bd92eda896",
   "metadata": {},
   "outputs": [
    {
     "data": {
      "text/plain": [
       "<qiskit_aer.jobs.aerjob.AerJob at 0x7f5fec3048e0>"
      ]
     },
     "execution_count": 12,
     "metadata": {},
     "output_type": "execute_result"
    }
   ],
   "source": [
    "backend.run(circ)"
   ]
  },
  {
   "cell_type": "code",
   "execution_count": null,
   "id": "07780921-0373-4d3d-b30d-5c2baa622f05",
   "metadata": {},
   "outputs": [],
   "source": []
  }
 ],
 "metadata": {
  "kernelspec": {
   "display_name": "Python 3 [Default]",
   "language": "python",
   "name": "python3"
  },
  "language_info": {
   "codemirror_mode": {
    "name": "ipython",
    "version": 3
   },
   "file_extension": ".py",
   "mimetype": "text/x-python",
   "name": "python",
   "nbconvert_exporter": "python",
   "pygments_lexer": "ipython3",
   "version": "3.9.10"
  }
 },
 "nbformat": 4,
 "nbformat_minor": 5
}
