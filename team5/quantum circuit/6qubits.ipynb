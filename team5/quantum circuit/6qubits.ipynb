{
 "cells": [
  {
   "cell_type": "code",
   "execution_count": 1,
   "id": "1eb6e019-c54b-4f20-8161-2e51a06d3e12",
   "metadata": {},
   "outputs": [],
   "source": [
    "from qiskit import QuantumRegister, ClassicalRegister, QuantumCircuit\n",
    "from qiskit.extensions import UnitaryGate\n",
    "import numpy as np"
   ]
  },
  {
   "cell_type": "code",
   "execution_count": 2,
   "id": "00909aa3-757b-4eb2-a32f-4d35e2b5fcd3",
   "metadata": {},
   "outputs": [],
   "source": [
    "from qiskit.circuit.gate import Gate\n",
    "from qiskit.circuit.library.standard_gates import HGate, CZGate, RYGate, XGate\n",
    "\n",
    "class RBSGate(Gate):\n",
    "\n",
    "    def __init__(self, label=None, param=None):\n",
    "        super().__init__(name='RBS', num_qubits=2, params=[param])\n",
    "        \n",
    "    def _define(self):\n",
    "        from qiskit.circuit.quantumregister import QuantumRegister\n",
    "        from qiskit.circuit.quantumcircuit import QuantumCircuit\n",
    "\n",
    "        q = QuantumRegister(2, 'q')\n",
    "        qc = QuantumCircuit(q, name=self.name)\n",
    "\n",
    "        rules = [\n",
    "            (HGate(), [q[0]], []),\n",
    "            (HGate(), [q[1]], []),\n",
    "            (CZGate(), [q[0], q[1]], []),\n",
    "            (RYGate(self.params[0]/2), [q[0]], []),\n",
    "            (RYGate(-self.params[0]/2), [q[1]], []),\n",
    "            (CZGate(), [q[0], q[1]], []),\n",
    "            (HGate(), [q[0]], []),\n",
    "            (HGate(), [q[1]], [])\n",
    "        ]\n",
    "\n",
    "        qc._data = rules\n",
    "        self.definition = qc"
   ]
  },
  {
   "cell_type": "code",
   "execution_count": 3,
   "id": "17e82f51-06c2-48f3-ba76-e3ff238528f1",
   "metadata": {},
   "outputs": [],
   "source": [
    "qubit = QuantumRegister(6)\n",
    "circ = QuantumCircuit (qubit)"
   ]
  },
  {
   "cell_type": "code",
   "execution_count": 4,
   "id": "dff95b88-59c0-4e68-9901-da697b35554e",
   "metadata": {},
   "outputs": [
    {
     "data": {
      "text/plain": [
       "<qiskit.circuit.instructionset.InstructionSet at 0x7f89f38b4b50>"
      ]
     },
     "execution_count": 4,
     "metadata": {},
     "output_type": "execute_result"
    }
   ],
   "source": [
    "#Apply X gate0,1 to 1st and 2nd qubits.\n",
    "circ.append(XGate(), [qubit[0]]) \n",
    "circ.append(XGate(), [qubit[1]])\n",
    "\n",
    "# Apply RBS gate1 to 1st and 2nd qubit\n",
    "circ.append(RBSGate(param=0), [qubit[0], qubit[1]])"
   ]
  },
  {
   "cell_type": "code",
   "execution_count": 5,
   "id": "57c1483c-a8d6-438d-8ae1-5d393a3395de",
   "metadata": {},
   "outputs": [
    {
     "data": {
      "text/plain": [
       "<qiskit.circuit.instructionset.InstructionSet at 0x7f8a345d9820>"
      ]
     },
     "execution_count": 5,
     "metadata": {},
     "output_type": "execute_result"
    }
   ],
   "source": [
    "# Apply X gate2 to 3nd qubits.\n",
    "circ.append(XGate(), [qubit[2]]) \n",
    "# Apply RBS gate2 to 2nd and 3rd qubit\n",
    "# theta2\n",
    "circ.append(RBSGate(param=0), [qubit[1], qubit[2]])\n",
    "\n",
    "# Apply X gate3 to 4th qubits.\n",
    "circ.append(XGate(), [qubit[3]]) \n",
    "# Apply RBS gate3 to 1st and 2nd qubit\n",
    "# theta3\n",
    "circ.append(RBSGate(param=0), [qubit[0], qubit[1]])\n",
    "\n",
    "# Apply X gate4 to 5th qubits.\n",
    "circ.append(XGate(), [qubit[4]]) \n",
    "# Apply RBS gate4 to 3rd and 4th qubit\n",
    "# theta4\n",
    "circ.append(RBSGate(param=0), [qubit[2], qubit[3]])\n",
    "\n",
    "# Apply X gate5 to 6th qubits.\n",
    "circ.append(XGate(), [qubit[5]]) \n",
    "# Apply RBS gate5 to 2nd and 3rd qubit\n",
    "# theta5\n",
    "circ.append(RBSGate(param=0), [qubit[1], qubit[2]])\n",
    "# Apply RBS gate7 to 4th and 5th qubit\n",
    "# theta7\n",
    "circ.append(RBSGate(param=0), [qubit[3], qubit[4]])\n",
    "\n",
    "# theta6\n",
    "circ.append(RBSGate(param=0), [qubit[0], qubit[1]])\n",
    "# Apply RBS gate8 to 3rd and 4th qubit\n",
    "# theta8\n",
    "circ.append(RBSGate(param=0), [qubit[2], qubit[3]])\n",
    "# Apply RBS gate11 to 5th and 6th qubit\n",
    "# theta11\n",
    "circ.append(RBSGate(param=0), [qubit[4], qubit[5]])\n",
    "\n",
    "# Apply RBS gate9 to 2nd and 3rd qubit\n",
    "# theta9\n",
    "circ.append(RBSGate(param=0), [qubit[1], qubit[2]])\n",
    "# Apply RBS gate12 to 4th and 5th qubit\n",
    "# theta12\n",
    "circ.append(RBSGate(param=0), [qubit[3], qubit[4]])\n",
    "\n",
    "\n",
    "# Apply RBS gate10 to 1st and 2nd qubit\n",
    "# theta10\n",
    "circ.append(RBSGate(param=0), [qubit[0], qubit[1]])\n",
    "# Apply RBS gate13 to 3rd and 4th qubit\n",
    "# theta13\n",
    "circ.append(RBSGate(param=0), [qubit[2], qubit[3]])\n"
   ]
  },
  {
   "cell_type": "code",
   "execution_count": 6,
   "id": "12bcacc4-b496-46da-98b9-92aeb4440c9c",
   "metadata": {},
   "outputs": [
    {
     "data": {
      "text/plain": [
       "<qiskit.circuit.instructionset.InstructionSet at 0x7f89f3921f10>"
      ]
     },
     "execution_count": 6,
     "metadata": {},
     "output_type": "execute_result"
    }
   ],
   "source": [
    "# Apply RBS gate14 to 2nd and 3rd qubit\n",
    "# theta14\n",
    "circ.append(RBSGate(param=0), [qubit[1], qubit[2]])\n",
    "\n",
    "# Apply RBS gate15 to 1st and 2nd qubit\n",
    "# theta15\n",
    "circ.append(RBSGate(param=0), [qubit[0], qubit[1]])\n"
   ]
  },
  {
   "cell_type": "code",
   "execution_count": 7,
   "id": "41b2cad9-f23f-4867-ae70-6ce677c4fe9d",
   "metadata": {},
   "outputs": [
    {
     "data": {
      "image/png": "[encoded data removed]",
      "text/plain": [
       "<Figure size 974.414x535.111 with 1 Axes>"
      ]
     },
     "execution_count": 7,
     "metadata": {},
     "output_type": "execute_result"
    }
   ],
   "source": [
    "circ.draw(output = 'mpl')"
   ]
  }
 ],
 "metadata": {
  "kernelspec": {
   "display_name": "Python 3 [Default]",
   "language": "python",
   "name": "python3"
  },
  "language_info": {
   "codemirror_mode": {
    "name": "ipython",
    "version": 3
   },
   "file_extension": ".py",
   "mimetype": "text/x-python",
   "name": "python",
   "nbconvert_exporter": "python",
   "pygments_lexer": "ipython3",
   "version": "3.9.10"
  }
 },
 "nbformat": 4,
 "nbformat_minor": 5
}
